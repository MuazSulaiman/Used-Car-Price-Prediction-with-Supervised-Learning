{
 "cells": [
  {
   "cell_type": "markdown",
   "metadata": {},
   "source": [
    "# Start Time"
   ]
  },
  {
   "cell_type": "code",
   "execution_count": 1,
   "metadata": {},
   "outputs": [],
   "source": [
    "import time\n",
    "\n",
    "start_time = time.time()"
   ]
  },
  {
   "cell_type": "markdown",
   "metadata": {},
   "source": [
    "# Autos Project for Sprints"
   ]
  },
  {
   "cell_type": "markdown",
   "metadata": {},
   "source": [
    "The total runtime of the project is 9 minutes and 45 seconds"
   ]
  },
  {
   "cell_type": "markdown",
   "metadata": {},
   "source": [
    "## ASK"
   ]
  },
  {
   "cell_type": "markdown",
   "metadata": {},
   "source": [
    "### Reading About the Domain"
   ]
  },
  {
   "cell_type": "markdown",
   "metadata": {},
   "source": [
    "#### What are the most features that affects the price of used cars? \n",
    "- Popularity  \n",
    "- Age \n",
    "- Mileage \n",
    "- Accidents \n",
    "- Geartype \n",
    "\n",
    "  [Resource](https://www.westsideauto.com.au/news/factors-that-impact-the-value-of-your-car)"
   ]
  },
  {
   "cell_type": "markdown",
   "metadata": {},
   "source": [
    "#### When was the first car invented?\n",
    "- The first car was invented by Karl Benz in 1886"
   ]
  },
  {
   "cell_type": "markdown",
   "metadata": {},
   "source": [
    "#### What was the biggest horsepower for a car? \n",
    "- The biggest horsepower for a car is 1,500 horsepower. This was achieved by the Bugatti Veyron Super Sport, which was produced from 2010 to 2012. The Veyron Super Sport has a top speed of 267 miles per hour and can accelerate from 0 to 60 miles per hour in 2.4 seconds.\n"
   ]
  },
  {
   "cell_type": "markdown",
   "metadata": {},
   "source": [
    "#### What are the project goals?\n",
    "- To effectively clean the data based on the domain\n",
    "- To effectively predict the price of the used cars"
   ]
  },
  {
   "cell_type": "markdown",
   "metadata": {},
   "source": [
    "## PREPARE"
   ]
  },
  {
   "cell_type": "markdown",
   "metadata": {},
   "source": [
    "### Importing needed packages"
   ]
  },
  {
   "cell_type": "code",
   "execution_count": 2,
   "metadata": {},
   "outputs": [],
   "source": [
    "# Needed packages to manipulate the data\n",
    "import pandas as pd\n",
    "import numpy as np\n",
    "import matplotlib.pyplot as plt\n",
    "\n",
    "# Needed packages to prepare the data for ML\n",
    "from sklearn.preprocessing import LabelEncoder\n",
    "from sklearn.preprocessing import MinMaxScaler\n",
    "from sklearn.model_selection import train_test_split\n",
    "\n",
    "# Needed packages to apply the ML models\n",
    "from sklearn.linear_model import LinearRegression\n",
    "from sklearn.preprocessing import PolynomialFeatures\n",
    "\n",
    "# Needed packages to test the accuracy of the ML models\n",
    "from sklearn import metrics\n",
    "from sklearn.metrics import mean_squared_error, r2_score"
   ]
  },
  {
   "cell_type": "markdown",
   "metadata": {},
   "source": [
    "### Uploading the Dataset"
   ]
  },
  {
   "cell_type": "code",
   "execution_count": 3,
   "metadata": {},
   "outputs": [
    {
     "data": {
      "text/html": [
       "<div>\n",
       "<style scoped>\n",
       "    .dataframe tbody tr th:only-of-type {\n",
       "        vertical-align: middle;\n",
       "    }\n",
       "\n",
       "    .dataframe tbody tr th {\n",
       "        vertical-align: top;\n",
       "    }\n",
       "\n",
       "    .dataframe thead th {\n",
       "        text-align: right;\n",
       "    }\n",
       "</style>\n",
       "<table border=\"1\" class=\"dataframe\">\n",
       "  <thead>\n",
       "    <tr style=\"text-align: right;\">\n",
       "      <th></th>\n",
       "      <th>index</th>\n",
       "      <th>dateCrawled</th>\n",
       "      <th>name</th>\n",
       "      <th>seller</th>\n",
       "      <th>offerType</th>\n",
       "      <th>price</th>\n",
       "      <th>abtest</th>\n",
       "      <th>vehicleType</th>\n",
       "      <th>yearOfRegistration</th>\n",
       "      <th>gearbox</th>\n",
       "      <th>...</th>\n",
       "      <th>model</th>\n",
       "      <th>kilometer</th>\n",
       "      <th>monthOfRegistration</th>\n",
       "      <th>fuelType</th>\n",
       "      <th>brand</th>\n",
       "      <th>notRepairedDamage</th>\n",
       "      <th>dateCreated</th>\n",
       "      <th>nrOfPictures</th>\n",
       "      <th>postalCode</th>\n",
       "      <th>lastSeen</th>\n",
       "    </tr>\n",
       "  </thead>\n",
       "  <tbody>\n",
       "    <tr>\n",
       "      <th>0</th>\n",
       "      <td>0</td>\n",
       "      <td>2016-03-24 11:52:17</td>\n",
       "      <td>Golf_3_1.6</td>\n",
       "      <td>privat</td>\n",
       "      <td>Angebot</td>\n",
       "      <td>480</td>\n",
       "      <td>test</td>\n",
       "      <td>NaN</td>\n",
       "      <td>1993</td>\n",
       "      <td>manuell</td>\n",
       "      <td>...</td>\n",
       "      <td>golf</td>\n",
       "      <td>150000</td>\n",
       "      <td>0</td>\n",
       "      <td>benzin</td>\n",
       "      <td>volkswagen</td>\n",
       "      <td>NaN</td>\n",
       "      <td>2016-03-24 00:00:00</td>\n",
       "      <td>0</td>\n",
       "      <td>70435</td>\n",
       "      <td>2016-04-07 03:16:57</td>\n",
       "    </tr>\n",
       "    <tr>\n",
       "      <th>1</th>\n",
       "      <td>1</td>\n",
       "      <td>2016-03-24 10:58:45</td>\n",
       "      <td>A5_Sportback_2.7_Tdi</td>\n",
       "      <td>privat</td>\n",
       "      <td>Angebot</td>\n",
       "      <td>18300</td>\n",
       "      <td>test</td>\n",
       "      <td>coupe</td>\n",
       "      <td>2011</td>\n",
       "      <td>manuell</td>\n",
       "      <td>...</td>\n",
       "      <td>NaN</td>\n",
       "      <td>125000</td>\n",
       "      <td>5</td>\n",
       "      <td>diesel</td>\n",
       "      <td>audi</td>\n",
       "      <td>ja</td>\n",
       "      <td>2016-03-24 00:00:00</td>\n",
       "      <td>0</td>\n",
       "      <td>66954</td>\n",
       "      <td>2016-04-07 01:46:50</td>\n",
       "    </tr>\n",
       "    <tr>\n",
       "      <th>2</th>\n",
       "      <td>2</td>\n",
       "      <td>2016-03-14 12:52:21</td>\n",
       "      <td>Jeep_Grand_Cherokee_\"Overland\"</td>\n",
       "      <td>privat</td>\n",
       "      <td>Angebot</td>\n",
       "      <td>9800</td>\n",
       "      <td>test</td>\n",
       "      <td>suv</td>\n",
       "      <td>2004</td>\n",
       "      <td>automatik</td>\n",
       "      <td>...</td>\n",
       "      <td>grand</td>\n",
       "      <td>125000</td>\n",
       "      <td>8</td>\n",
       "      <td>diesel</td>\n",
       "      <td>jeep</td>\n",
       "      <td>NaN</td>\n",
       "      <td>2016-03-14 00:00:00</td>\n",
       "      <td>0</td>\n",
       "      <td>90480</td>\n",
       "      <td>2016-04-05 12:47:46</td>\n",
       "    </tr>\n",
       "    <tr>\n",
       "      <th>3</th>\n",
       "      <td>3</td>\n",
       "      <td>2016-03-17 16:54:04</td>\n",
       "      <td>GOLF_4_1_4__3TÜRER</td>\n",
       "      <td>privat</td>\n",
       "      <td>Angebot</td>\n",
       "      <td>1500</td>\n",
       "      <td>test</td>\n",
       "      <td>kleinwagen</td>\n",
       "      <td>2001</td>\n",
       "      <td>manuell</td>\n",
       "      <td>...</td>\n",
       "      <td>golf</td>\n",
       "      <td>150000</td>\n",
       "      <td>6</td>\n",
       "      <td>benzin</td>\n",
       "      <td>volkswagen</td>\n",
       "      <td>nein</td>\n",
       "      <td>2016-03-17 00:00:00</td>\n",
       "      <td>0</td>\n",
       "      <td>91074</td>\n",
       "      <td>2016-03-17 17:40:17</td>\n",
       "    </tr>\n",
       "    <tr>\n",
       "      <th>4</th>\n",
       "      <td>4</td>\n",
       "      <td>2016-03-31 17:25:20</td>\n",
       "      <td>Skoda_Fabia_1.4_TDI_PD_Classic</td>\n",
       "      <td>privat</td>\n",
       "      <td>Angebot</td>\n",
       "      <td>3600</td>\n",
       "      <td>test</td>\n",
       "      <td>kleinwagen</td>\n",
       "      <td>2008</td>\n",
       "      <td>manuell</td>\n",
       "      <td>...</td>\n",
       "      <td>fabia</td>\n",
       "      <td>90000</td>\n",
       "      <td>7</td>\n",
       "      <td>diesel</td>\n",
       "      <td>skoda</td>\n",
       "      <td>nein</td>\n",
       "      <td>2016-03-31 00:00:00</td>\n",
       "      <td>0</td>\n",
       "      <td>60437</td>\n",
       "      <td>2016-04-06 10:17:21</td>\n",
       "    </tr>\n",
       "  </tbody>\n",
       "</table>\n",
       "<p>5 rows × 21 columns</p>\n",
       "</div>"
      ],
      "text/plain": [
       "   index          dateCrawled                            name  seller  \\\n",
       "0      0  2016-03-24 11:52:17                      Golf_3_1.6  privat   \n",
       "1      1  2016-03-24 10:58:45            A5_Sportback_2.7_Tdi  privat   \n",
       "2      2  2016-03-14 12:52:21  Jeep_Grand_Cherokee_\"Overland\"  privat   \n",
       "3      3  2016-03-17 16:54:04              GOLF_4_1_4__3TÜRER  privat   \n",
       "4      4  2016-03-31 17:25:20  Skoda_Fabia_1.4_TDI_PD_Classic  privat   \n",
       "\n",
       "  offerType  price abtest vehicleType  yearOfRegistration    gearbox  ...  \\\n",
       "0   Angebot    480   test         NaN                1993    manuell  ...   \n",
       "1   Angebot  18300   test       coupe                2011    manuell  ...   \n",
       "2   Angebot   9800   test         suv                2004  automatik  ...   \n",
       "3   Angebot   1500   test  kleinwagen                2001    manuell  ...   \n",
       "4   Angebot   3600   test  kleinwagen                2008    manuell  ...   \n",
       "\n",
       "   model kilometer  monthOfRegistration  fuelType       brand  \\\n",
       "0   golf    150000                    0    benzin  volkswagen   \n",
       "1    NaN    125000                    5    diesel        audi   \n",
       "2  grand    125000                    8    diesel        jeep   \n",
       "3   golf    150000                    6    benzin  volkswagen   \n",
       "4  fabia     90000                    7    diesel       skoda   \n",
       "\n",
       "  notRepairedDamage          dateCreated nrOfPictures  postalCode  \\\n",
       "0               NaN  2016-03-24 00:00:00            0       70435   \n",
       "1                ja  2016-03-24 00:00:00            0       66954   \n",
       "2               NaN  2016-03-14 00:00:00            0       90480   \n",
       "3              nein  2016-03-17 00:00:00            0       91074   \n",
       "4              nein  2016-03-31 00:00:00            0       60437   \n",
       "\n",
       "              lastSeen  \n",
       "0  2016-04-07 03:16:57  \n",
       "1  2016-04-07 01:46:50  \n",
       "2  2016-04-05 12:47:46  \n",
       "3  2016-03-17 17:40:17  \n",
       "4  2016-04-06 10:17:21  \n",
       "\n",
       "[5 rows x 21 columns]"
      ]
     },
     "execution_count": 3,
     "metadata": {},
     "output_type": "execute_result"
    }
   ],
   "source": [
    "path = \"C:/Users/muazs/Desktop/autos.csv\"\n",
    "\n",
    "data = pd.read_csv(path) \n",
    "\n",
    "data.head()"
   ]
  },
  {
   "cell_type": "markdown",
   "metadata": {},
   "source": [
    "## PROCESS"
   ]
  },
  {
   "cell_type": "markdown",
   "metadata": {},
   "source": [
    "### Exploring the Dataset"
   ]
  },
  {
   "cell_type": "markdown",
   "metadata": {},
   "source": [
    "#### Shape"
   ]
  },
  {
   "cell_type": "code",
   "execution_count": 4,
   "metadata": {},
   "outputs": [
    {
     "data": {
      "text/plain": [
       "(371528, 21)"
      ]
     },
     "execution_count": 4,
     "metadata": {},
     "output_type": "execute_result"
    }
   ],
   "source": [
    "data.shape"
   ]
  },
  {
   "cell_type": "markdown",
   "metadata": {},
   "source": [
    "There are approximately 371.5K rows and 21 columns"
   ]
  },
  {
   "cell_type": "markdown",
   "metadata": {},
   "source": [
    "#### Description"
   ]
  },
  {
   "cell_type": "code",
   "execution_count": 5,
   "metadata": {},
   "outputs": [
    {
     "data": {
      "text/html": [
       "<div>\n",
       "<style scoped>\n",
       "    .dataframe tbody tr th:only-of-type {\n",
       "        vertical-align: middle;\n",
       "    }\n",
       "\n",
       "    .dataframe tbody tr th {\n",
       "        vertical-align: top;\n",
       "    }\n",
       "\n",
       "    .dataframe thead th {\n",
       "        text-align: right;\n",
       "    }\n",
       "</style>\n",
       "<table border=\"1\" class=\"dataframe\">\n",
       "  <thead>\n",
       "    <tr style=\"text-align: right;\">\n",
       "      <th></th>\n",
       "      <th>index</th>\n",
       "      <th>price</th>\n",
       "      <th>yearOfRegistration</th>\n",
       "      <th>powerPS</th>\n",
       "      <th>kilometer</th>\n",
       "      <th>monthOfRegistration</th>\n",
       "      <th>nrOfPictures</th>\n",
       "      <th>postalCode</th>\n",
       "    </tr>\n",
       "  </thead>\n",
       "  <tbody>\n",
       "    <tr>\n",
       "      <th>count</th>\n",
       "      <td>371528.000000</td>\n",
       "      <td>3.715280e+05</td>\n",
       "      <td>371528.000000</td>\n",
       "      <td>371528.000000</td>\n",
       "      <td>371528.000000</td>\n",
       "      <td>371528.000000</td>\n",
       "      <td>371528.0</td>\n",
       "      <td>371528.00000</td>\n",
       "    </tr>\n",
       "    <tr>\n",
       "      <th>mean</th>\n",
       "      <td>185763.500000</td>\n",
       "      <td>1.729514e+04</td>\n",
       "      <td>2004.577997</td>\n",
       "      <td>115.549477</td>\n",
       "      <td>125618.688228</td>\n",
       "      <td>5.734445</td>\n",
       "      <td>0.0</td>\n",
       "      <td>50820.66764</td>\n",
       "    </tr>\n",
       "    <tr>\n",
       "      <th>std</th>\n",
       "      <td>107251.039743</td>\n",
       "      <td>3.587954e+06</td>\n",
       "      <td>92.866598</td>\n",
       "      <td>192.139578</td>\n",
       "      <td>40112.337051</td>\n",
       "      <td>3.712412</td>\n",
       "      <td>0.0</td>\n",
       "      <td>25799.08247</td>\n",
       "    </tr>\n",
       "    <tr>\n",
       "      <th>min</th>\n",
       "      <td>0.000000</td>\n",
       "      <td>0.000000e+00</td>\n",
       "      <td>1000.000000</td>\n",
       "      <td>0.000000</td>\n",
       "      <td>5000.000000</td>\n",
       "      <td>0.000000</td>\n",
       "      <td>0.0</td>\n",
       "      <td>1067.00000</td>\n",
       "    </tr>\n",
       "    <tr>\n",
       "      <th>25%</th>\n",
       "      <td>92881.750000</td>\n",
       "      <td>1.150000e+03</td>\n",
       "      <td>1999.000000</td>\n",
       "      <td>70.000000</td>\n",
       "      <td>125000.000000</td>\n",
       "      <td>3.000000</td>\n",
       "      <td>0.0</td>\n",
       "      <td>30459.00000</td>\n",
       "    </tr>\n",
       "    <tr>\n",
       "      <th>50%</th>\n",
       "      <td>185763.500000</td>\n",
       "      <td>2.950000e+03</td>\n",
       "      <td>2003.000000</td>\n",
       "      <td>105.000000</td>\n",
       "      <td>150000.000000</td>\n",
       "      <td>6.000000</td>\n",
       "      <td>0.0</td>\n",
       "      <td>49610.00000</td>\n",
       "    </tr>\n",
       "    <tr>\n",
       "      <th>75%</th>\n",
       "      <td>278645.250000</td>\n",
       "      <td>7.200000e+03</td>\n",
       "      <td>2008.000000</td>\n",
       "      <td>150.000000</td>\n",
       "      <td>150000.000000</td>\n",
       "      <td>9.000000</td>\n",
       "      <td>0.0</td>\n",
       "      <td>71546.00000</td>\n",
       "    </tr>\n",
       "    <tr>\n",
       "      <th>max</th>\n",
       "      <td>371527.000000</td>\n",
       "      <td>2.147484e+09</td>\n",
       "      <td>9999.000000</td>\n",
       "      <td>20000.000000</td>\n",
       "      <td>150000.000000</td>\n",
       "      <td>12.000000</td>\n",
       "      <td>0.0</td>\n",
       "      <td>99998.00000</td>\n",
       "    </tr>\n",
       "  </tbody>\n",
       "</table>\n",
       "</div>"
      ],
      "text/plain": [
       "               index         price  yearOfRegistration        powerPS  \\\n",
       "count  371528.000000  3.715280e+05       371528.000000  371528.000000   \n",
       "mean   185763.500000  1.729514e+04         2004.577997     115.549477   \n",
       "std    107251.039743  3.587954e+06           92.866598     192.139578   \n",
       "min         0.000000  0.000000e+00         1000.000000       0.000000   \n",
       "25%     92881.750000  1.150000e+03         1999.000000      70.000000   \n",
       "50%    185763.500000  2.950000e+03         2003.000000     105.000000   \n",
       "75%    278645.250000  7.200000e+03         2008.000000     150.000000   \n",
       "max    371527.000000  2.147484e+09         9999.000000   20000.000000   \n",
       "\n",
       "           kilometer  monthOfRegistration  nrOfPictures    postalCode  \n",
       "count  371528.000000        371528.000000      371528.0  371528.00000  \n",
       "mean   125618.688228             5.734445           0.0   50820.66764  \n",
       "std     40112.337051             3.712412           0.0   25799.08247  \n",
       "min      5000.000000             0.000000           0.0    1067.00000  \n",
       "25%    125000.000000             3.000000           0.0   30459.00000  \n",
       "50%    150000.000000             6.000000           0.0   49610.00000  \n",
       "75%    150000.000000             9.000000           0.0   71546.00000  \n",
       "max    150000.000000            12.000000           0.0   99998.00000  "
      ]
     },
     "execution_count": 5,
     "metadata": {},
     "output_type": "execute_result"
    }
   ],
   "source": [
    "data.describe()"
   ]
  },
  {
   "cell_type": "markdown",
   "metadata": {},
   "source": [
    "We can see some wrong things obviously\n",
    "- There is a huge outlier in the price \n",
    "- The min year is 1,000 and the max year is 9,999\n",
    "- The min powerPS is 0 and the max powerPS is 20,000\n",
    "- The min monthOfRegistration is 0 \n",
    "- There is no need of nrOfPictures since they are all filled with '0'"
   ]
  },
  {
   "cell_type": "code",
   "execution_count": 6,
   "metadata": {},
   "outputs": [
    {
     "data": {
      "text/html": [
       "<div>\n",
       "<style scoped>\n",
       "    .dataframe tbody tr th:only-of-type {\n",
       "        vertical-align: middle;\n",
       "    }\n",
       "\n",
       "    .dataframe tbody tr th {\n",
       "        vertical-align: top;\n",
       "    }\n",
       "\n",
       "    .dataframe thead th {\n",
       "        text-align: right;\n",
       "    }\n",
       "</style>\n",
       "<table border=\"1\" class=\"dataframe\">\n",
       "  <thead>\n",
       "    <tr style=\"text-align: right;\">\n",
       "      <th></th>\n",
       "      <th>dateCrawled</th>\n",
       "      <th>name</th>\n",
       "      <th>seller</th>\n",
       "      <th>offerType</th>\n",
       "      <th>abtest</th>\n",
       "      <th>vehicleType</th>\n",
       "      <th>gearbox</th>\n",
       "      <th>model</th>\n",
       "      <th>fuelType</th>\n",
       "      <th>brand</th>\n",
       "      <th>notRepairedDamage</th>\n",
       "      <th>dateCreated</th>\n",
       "      <th>lastSeen</th>\n",
       "    </tr>\n",
       "  </thead>\n",
       "  <tbody>\n",
       "    <tr>\n",
       "      <th>count</th>\n",
       "      <td>371528</td>\n",
       "      <td>371528</td>\n",
       "      <td>371528</td>\n",
       "      <td>371528</td>\n",
       "      <td>371528</td>\n",
       "      <td>333659</td>\n",
       "      <td>351319</td>\n",
       "      <td>351044</td>\n",
       "      <td>338142</td>\n",
       "      <td>371528</td>\n",
       "      <td>299468</td>\n",
       "      <td>371528</td>\n",
       "      <td>371528</td>\n",
       "    </tr>\n",
       "    <tr>\n",
       "      <th>unique</th>\n",
       "      <td>280500</td>\n",
       "      <td>233531</td>\n",
       "      <td>2</td>\n",
       "      <td>2</td>\n",
       "      <td>2</td>\n",
       "      <td>8</td>\n",
       "      <td>2</td>\n",
       "      <td>251</td>\n",
       "      <td>7</td>\n",
       "      <td>40</td>\n",
       "      <td>2</td>\n",
       "      <td>114</td>\n",
       "      <td>182806</td>\n",
       "    </tr>\n",
       "    <tr>\n",
       "      <th>top</th>\n",
       "      <td>2016-03-24 14:49:47</td>\n",
       "      <td>Ford_Fiesta</td>\n",
       "      <td>privat</td>\n",
       "      <td>Angebot</td>\n",
       "      <td>test</td>\n",
       "      <td>limousine</td>\n",
       "      <td>manuell</td>\n",
       "      <td>golf</td>\n",
       "      <td>benzin</td>\n",
       "      <td>volkswagen</td>\n",
       "      <td>nein</td>\n",
       "      <td>2016-04-03 00:00:00</td>\n",
       "      <td>2016-04-07 06:45:59</td>\n",
       "    </tr>\n",
       "    <tr>\n",
       "      <th>freq</th>\n",
       "      <td>7</td>\n",
       "      <td>657</td>\n",
       "      <td>371525</td>\n",
       "      <td>371516</td>\n",
       "      <td>192585</td>\n",
       "      <td>95894</td>\n",
       "      <td>274214</td>\n",
       "      <td>30070</td>\n",
       "      <td>223857</td>\n",
       "      <td>79640</td>\n",
       "      <td>263182</td>\n",
       "      <td>14450</td>\n",
       "      <td>17</td>\n",
       "    </tr>\n",
       "  </tbody>\n",
       "</table>\n",
       "</div>"
      ],
      "text/plain": [
       "                dateCrawled         name  seller offerType  abtest  \\\n",
       "count                371528       371528  371528    371528  371528   \n",
       "unique               280500       233531       2         2       2   \n",
       "top     2016-03-24 14:49:47  Ford_Fiesta  privat   Angebot    test   \n",
       "freq                      7          657  371525    371516  192585   \n",
       "\n",
       "       vehicleType  gearbox   model fuelType       brand notRepairedDamage  \\\n",
       "count       333659   351319  351044   338142      371528            299468   \n",
       "unique           8        2     251        7          40                 2   \n",
       "top      limousine  manuell    golf   benzin  volkswagen              nein   \n",
       "freq         95894   274214   30070   223857       79640            263182   \n",
       "\n",
       "                dateCreated             lastSeen  \n",
       "count                371528               371528  \n",
       "unique                  114               182806  \n",
       "top     2016-04-03 00:00:00  2016-04-07 06:45:59  \n",
       "freq                  14450                   17  "
      ]
     },
     "execution_count": 6,
     "metadata": {},
     "output_type": "execute_result"
    }
   ],
   "source": [
    "data.describe(include=['O'])"
   ]
  },
  {
   "cell_type": "markdown",
   "metadata": {},
   "source": [
    "Some of the data seems to be categorized like:\n",
    "- seller             (2 categories)\n",
    "- offerType          (2 categories)\n",
    "- abtest             (2 categories)\n",
    "- vehicleType        (8 categories)\n",
    "- gearbox            (2 categories)\n",
    "- model              (251 categories)\n",
    "- fuelType           (7 categories)\n",
    "- brand              (40 categories)\n",
    "- notRepairedDamage  (2 categories)"
   ]
  },
  {
   "cell_type": "markdown",
   "metadata": {},
   "source": [
    "#### Column Types"
   ]
  },
  {
   "cell_type": "code",
   "execution_count": 7,
   "metadata": {},
   "outputs": [
    {
     "data": {
      "text/plain": [
       "index                   int64\n",
       "dateCrawled            object\n",
       "name                   object\n",
       "seller                 object\n",
       "offerType              object\n",
       "price                   int64\n",
       "abtest                 object\n",
       "vehicleType            object\n",
       "yearOfRegistration      int64\n",
       "gearbox                object\n",
       "powerPS                 int64\n",
       "model                  object\n",
       "kilometer               int64\n",
       "monthOfRegistration     int64\n",
       "fuelType               object\n",
       "brand                  object\n",
       "notRepairedDamage      object\n",
       "dateCreated            object\n",
       "nrOfPictures            int64\n",
       "postalCode              int64\n",
       "lastSeen               object\n",
       "dtype: object"
      ]
     },
     "execution_count": 7,
     "metadata": {},
     "output_type": "execute_result"
    }
   ],
   "source": [
    "data.dtypes"
   ]
  },
  {
   "cell_type": "markdown",
   "metadata": {},
   "source": [
    "I have total of 21 columns, 8 are integers and 13 are objects"
   ]
  },
  {
   "cell_type": "markdown",
   "metadata": {},
   "source": [
    "### Removing Irrelevant Attributes"
   ]
  },
  {
   "cell_type": "markdown",
   "metadata": {},
   "source": [
    "#### After reading the domain those informations are irrelevant to the price"
   ]
  },
  {
   "cell_type": "code",
   "execution_count": 8,
   "metadata": {},
   "outputs": [],
   "source": [
    "data.drop('index', axis=1, inplace=True)\n",
    "data.drop('dateCrawled', axis=1, inplace=True)\n",
    "data.drop('monthOfRegistration', axis=1, inplace=True)\n",
    "data.drop('dateCreated', axis=1, inplace=True)\n",
    "data.drop('nrOfPictures', axis=1, inplace=True)\n",
    "data.drop('postalCode', axis=1, inplace=True) # It would only be relevant if I can extract country names from the postal code\n",
    "data.drop('lastSeen', axis=1, inplace=True)"
   ]
  },
  {
   "cell_type": "markdown",
   "metadata": {},
   "source": [
    "#### This features requires further analysis and investigations to decide if they are irrelevant or not  \n",
    "- seller\n",
    "- offerType\n",
    "- abtest\n",
    "- fuelType"
   ]
  },
  {
   "cell_type": "markdown",
   "metadata": {},
   "source": [
    "##### Seller"
   ]
  },
  {
   "cell_type": "code",
   "execution_count": 9,
   "metadata": {},
   "outputs": [
    {
     "data": {
      "text/plain": [
       "privat        99.999193\n",
       "gewerblich     0.000807\n",
       "Name: seller, dtype: float64"
      ]
     },
     "execution_count": 9,
     "metadata": {},
     "output_type": "execute_result"
    }
   ],
   "source": [
    "data['seller'].value_counts(normalize = True) *100 "
   ]
  },
  {
   "cell_type": "markdown",
   "metadata": {},
   "source": [
    "privat -> private  \n",
    "gewerblich -> trade\n",
    "\n",
    "Since all the column are 'privat' by 99.99% then there is no use for it "
   ]
  },
  {
   "cell_type": "code",
   "execution_count": 10,
   "metadata": {},
   "outputs": [],
   "source": [
    "data.drop('seller', axis=1, inplace=True)"
   ]
  },
  {
   "cell_type": "markdown",
   "metadata": {},
   "source": [
    "##### Offer Type"
   ]
  },
  {
   "cell_type": "code",
   "execution_count": 11,
   "metadata": {},
   "outputs": [
    {
     "data": {
      "text/plain": [
       "Angebot    99.99677\n",
       "Gesuch      0.00323\n",
       "Name: offerType, dtype: float64"
      ]
     },
     "execution_count": 11,
     "metadata": {},
     "output_type": "execute_result"
    }
   ],
   "source": [
    "data['offerType'].value_counts(normalize = True) *100"
   ]
  },
  {
   "cell_type": "markdown",
   "metadata": {},
   "source": [
    "Angebot -> Offer  \n",
    "Gesuch -> Request\n",
    "\n",
    "Since all the column are 'Angebot' by 99.99% then there is no use for it "
   ]
  },
  {
   "cell_type": "code",
   "execution_count": 12,
   "metadata": {},
   "outputs": [],
   "source": [
    "data.drop('offerType', axis=1, inplace=True)"
   ]
  },
  {
   "cell_type": "markdown",
   "metadata": {},
   "source": [
    "##### A/B Test"
   ]
  },
  {
   "cell_type": "code",
   "execution_count": 13,
   "metadata": {},
   "outputs": [
    {
     "data": {
      "text/plain": [
       "test       51.835932\n",
       "control    48.164068\n",
       "Name: abtest, dtype: float64"
      ]
     },
     "execution_count": 13,
     "metadata": {},
     "output_type": "execute_result"
    }
   ],
   "source": [
    "data['abtest'].value_counts(normalize = True) *100"
   ]
  },
  {
   "cell_type": "markdown",
   "metadata": {},
   "source": [
    "Since the values are equally distibuted in the column, we will leave it"
   ]
  },
  {
   "cell_type": "markdown",
   "metadata": {},
   "source": [
    "##### Fuel Type"
   ]
  },
  {
   "cell_type": "code",
   "execution_count": 14,
   "metadata": {},
   "outputs": [
    {
     "data": {
      "text/plain": [
       "benzin     66.202069\n",
       "diesel     31.864128\n",
       "lpg         1.590456\n",
       "cng         0.168864\n",
       "hybrid      0.082214\n",
       "andere      0.061513\n",
       "elektro     0.030756\n",
       "Name: fuelType, dtype: float64"
      ]
     },
     "execution_count": 14,
     "metadata": {},
     "output_type": "execute_result"
    }
   ],
   "source": [
    "data['fuelType'].value_counts(normalize = True) *100"
   ]
  },
  {
   "cell_type": "markdown",
   "metadata": {},
   "source": [
    "benzin -> petrol  \n",
    "diesel -> diesel  \n",
    "lpg -> liquefied petroleum gas  \n",
    "cng -> compressed natural gas  \n",
    "hybrid -> hybrid  \n",
    "andere -> others  \n",
    "elektro -> electro  \n",
    "\n",
    "Since the values might seem to have some importance in the column, we will leave it"
   ]
  },
  {
   "cell_type": "markdown",
   "metadata": {},
   "source": [
    "### Removing Duplicates"
   ]
  },
  {
   "cell_type": "code",
   "execution_count": 15,
   "metadata": {},
   "outputs": [
    {
     "data": {
      "text/plain": [
       "7591"
      ]
     },
     "execution_count": 15,
     "metadata": {},
     "output_type": "execute_result"
    }
   ],
   "source": [
    "data.duplicated().sum()"
   ]
  },
  {
   "cell_type": "code",
   "execution_count": 16,
   "metadata": {},
   "outputs": [],
   "source": [
    "data.drop_duplicates(inplace=True)"
   ]
  },
  {
   "cell_type": "markdown",
   "metadata": {},
   "source": [
    "### Handling Outliers / Logical Errors"
   ]
  },
  {
   "cell_type": "markdown",
   "metadata": {},
   "source": [
    "##### Fixing Year of Registration"
   ]
  },
  {
   "cell_type": "code",
   "execution_count": 17,
   "metadata": {},
   "outputs": [
    {
     "data": {
      "image/png": "[encoded data removed]",
      "text/plain": [
       "<Figure size 640x480 with 1 Axes>"
      ]
     },
     "metadata": {},
     "output_type": "display_data"
    }
   ],
   "source": [
    "# Drawing a boxplot to check if outliers exist\n",
    "cols = ['yearOfRegistration']\n",
    "\n",
    "plt.boxplot(data[cols].values, labels=cols)\n",
    "plt.show()"
   ]
  },
  {
   "cell_type": "code",
   "execution_count": 18,
   "metadata": {},
   "outputs": [],
   "source": [
    "# Removing the outliers using logic \n",
    "data = data.loc[(data['yearOfRegistration'] <= 2023) & (data['yearOfRegistration'] > 1886)]"
   ]
  },
  {
   "cell_type": "code",
   "execution_count": 19,
   "metadata": {},
   "outputs": [
    {
     "name": "stdout",
     "output_type": "stream",
     "text": [
      "2019\n",
      "1910\n"
     ]
    }
   ],
   "source": [
    "# To check if the data is between the assigned dates\n",
    "print(data['yearOfRegistration'].max())\n",
    "print(data['yearOfRegistration'].min())"
   ]
  },
  {
   "cell_type": "code",
   "execution_count": 20,
   "metadata": {},
   "outputs": [
    {
     "data": {
      "image/png": "[encoded data removed]",
      "text/plain": [
       "<Figure size 640x480 with 1 Axes>"
      ]
     },
     "metadata": {},
     "output_type": "display_data"
    }
   ],
   "source": [
    "# Drawing a boxplot to check if outliers are removed\n",
    "cols = ['yearOfRegistration']\n",
    "\n",
    "plt.boxplot(data[cols].values, labels=cols)\n",
    "plt.show()"
   ]
  },
  {
   "cell_type": "markdown",
   "metadata": {},
   "source": [
    "##### Fixing Prices"
   ]
  },
  {
   "cell_type": "code",
   "execution_count": 21,
   "metadata": {},
   "outputs": [
    {
     "data": {
      "image/png": "[encoded data removed]",
      "text/plain": [
       "<Figure size 640x480 with 1 Axes>"
      ]
     },
     "metadata": {},
     "output_type": "display_data"
    }
   ],
   "source": [
    "# Drawing a boxplot to check if outliers exist\n",
    "cols = ['price']\n",
    "\n",
    "plt.boxplot(data[cols].values, labels=cols)\n",
    "plt.show()"
   ]
  },
  {
   "cell_type": "code",
   "execution_count": 22,
   "metadata": {},
   "outputs": [],
   "source": [
    "# Removing the otliers using the Interquartile Range Outlier Detection\n",
    "q25 = np.percentile(data['price'], 25)\n",
    "q75 = np.percentile(data['price'], 75)\n",
    "iqr = q75 - q25\n",
    "\n",
    "lower_bound = q25 - 1.5 * iqr\n",
    "upper_bound = q75 + 1.5 * iqr\n",
    "\n",
    "data = data.loc[(data['price'] >= lower_bound) & (data['price'] <= upper_bound)]"
   ]
  },
  {
   "cell_type": "code",
   "execution_count": 23,
   "metadata": {},
   "outputs": [],
   "source": [
    "# Removing zero values\n",
    "data = data.loc[(data['price'] > 0)]"
   ]
  },
  {
   "cell_type": "code",
   "execution_count": 24,
   "metadata": {},
   "outputs": [
    {
     "name": "stdout",
     "output_type": "stream",
     "text": [
      "16270\n",
      "1\n"
     ]
    }
   ],
   "source": [
    "# To check if the data is between the assigned values\n",
    "print(data['price'].max())\n",
    "print(data['price'].min())"
   ]
  },
  {
   "cell_type": "code",
   "execution_count": 25,
   "metadata": {},
   "outputs": [
    {
     "data": {
      "image/png": "[encoded data removed]",
      "text/plain": [
       "<Figure size 640x480 with 1 Axes>"
      ]
     },
     "metadata": {},
     "output_type": "display_data"
    }
   ],
   "source": [
    "# Drawing a boxplot to check if outliers are removed\n",
    "cols = ['price']\n",
    "\n",
    "plt.boxplot(data[cols].values, labels=cols)\n",
    "plt.show()"
   ]
  },
  {
   "cell_type": "markdown",
   "metadata": {},
   "source": [
    "##### Fixing powerPS"
   ]
  },
  {
   "cell_type": "code",
   "execution_count": 26,
   "metadata": {},
   "outputs": [
    {
     "data": {
      "image/png": "[encoded data removed]",
      "text/plain": [
       "<Figure size 640x480 with 1 Axes>"
      ]
     },
     "metadata": {},
     "output_type": "display_data"
    }
   ],
   "source": [
    "# Drawing a boxplot to check if outliers exist\n",
    "cols = ['powerPS']\n",
    "\n",
    "plt.boxplot(data[cols].values, labels=cols)\n",
    "plt.show()"
   ]
  },
  {
   "cell_type": "code",
   "execution_count": 27,
   "metadata": {},
   "outputs": [],
   "source": [
    "# Since horsepower is not the same as powerPS we will have to convert it\n",
    "# The max horsepower recorded was 1500 based on the domain research\n",
    "# 1 horsepower = 1.01387 metric horsepower (PS)\n",
    "\n",
    "PS = 1500 * 1.01387"
   ]
  },
  {
   "cell_type": "code",
   "execution_count": 28,
   "metadata": {},
   "outputs": [],
   "source": [
    "# Removing outliers using logic\n",
    "data = data.loc[(data['powerPS'] <= PS) & (data['powerPS'] > 0)]"
   ]
  },
  {
   "cell_type": "code",
   "execution_count": 29,
   "metadata": {},
   "outputs": [
    {
     "name": "stdout",
     "output_type": "stream",
     "text": [
      "1506\n",
      "1\n"
     ]
    }
   ],
   "source": [
    "# To check if the data is between the assigned values\n",
    "print(data['powerPS'].max())\n",
    "print(data['powerPS'].min())"
   ]
  },
  {
   "cell_type": "code",
   "execution_count": 30,
   "metadata": {},
   "outputs": [
    {
     "data": {
      "image/png": "[encoded data removed]",
      "text/plain": [
       "<Figure size 640x480 with 1 Axes>"
      ]
     },
     "metadata": {},
     "output_type": "display_data"
    }
   ],
   "source": [
    "# Drawing a boxplot to check if outliers are removed\n",
    "cols = ['powerPS']\n",
    "\n",
    "plt.boxplot(data[cols].values, labels=cols)\n",
    "plt.show()"
   ]
  },
  {
   "cell_type": "markdown",
   "metadata": {},
   "source": [
    "### Handling Nulls"
   ]
  },
  {
   "cell_type": "code",
   "execution_count": 31,
   "metadata": {},
   "outputs": [
    {
     "data": {
      "text/plain": [
       "name                      0\n",
       "price                     0\n",
       "abtest                    0\n",
       "vehicleType           20954\n",
       "yearOfRegistration        0\n",
       "gearbox                5944\n",
       "powerPS                   0\n",
       "model                 12078\n",
       "kilometer                 0\n",
       "fuelType              19460\n",
       "brand                     0\n",
       "notRepairedDamage     45763\n",
       "dtype: int64"
      ]
     },
     "execution_count": 31,
     "metadata": {},
     "output_type": "execute_result"
    }
   ],
   "source": [
    "data.isnull().sum()"
   ]
  },
  {
   "cell_type": "markdown",
   "metadata": {},
   "source": [
    "We can find nulls in  \n",
    "- vehicleType\n",
    "- gearbox\n",
    "- model\n",
    "- fuelType\n",
    "- notRepairedDamage  \n",
    "\n",
    "Let's make a plan to find the missing values based on the mode of different cateorical values\n",
    "- name + brand -> model\n",
    "- name + brand + model -> vehicleType\n",
    "- name + brand + model + vehicleType -> gearbox\n",
    "- name + brand + model + vehicleType + gearbox -> fuelType\n",
    "- notRepairedDamage requires further analysis and investigations "
   ]
  },
  {
   "cell_type": "markdown",
   "metadata": {},
   "source": [
    "Blocks labeled by \"# ChatGPT\" is from chatGPT due to errors in my original code and low level in python, but the methodology behind it is to fill the missing values based on the mode based on more than one group for two reasons\n",
    "1. Because they are textual values not numerical values \n",
    "2. Filling all the nulls by the mode of the missing column ONLY can cause bias"
   ]
  },
  {
   "cell_type": "markdown",
   "metadata": {},
   "source": [
    "#### Filling Model NULLS"
   ]
  },
  {
   "cell_type": "markdown",
   "metadata": {},
   "source": [
    "Checking Before"
   ]
  },
  {
   "cell_type": "code",
   "execution_count": 32,
   "metadata": {},
   "outputs": [
    {
     "data": {
      "text/plain": [
       "12078"
      ]
     },
     "execution_count": 32,
     "metadata": {},
     "output_type": "execute_result"
    }
   ],
   "source": [
    "data['model'].isnull().sum()"
   ]
  },
  {
   "cell_type": "code",
   "execution_count": 33,
   "metadata": {},
   "outputs": [
    {
     "data": {
      "text/plain": [
       "golf                  24616\n",
       "andere                19759\n",
       "3er                   16705\n",
       "polo                  10933\n",
       "corsa                 10336\n",
       "                      ...  \n",
       "q3                        3\n",
       "range_rover_evoque        2\n",
       "serie_3                   2\n",
       "gl                        2\n",
       "rangerover                2\n",
       "Name: model, Length: 249, dtype: int64"
      ]
     },
     "execution_count": 33,
     "metadata": {},
     "output_type": "execute_result"
    }
   ],
   "source": [
    "data['model'].value_counts()"
   ]
  },
  {
   "cell_type": "markdown",
   "metadata": {},
   "source": [
    "Fixing"
   ]
  },
  {
   "cell_type": "code",
   "execution_count": 34,
   "metadata": {},
   "outputs": [],
   "source": [
    "# ChatGPT\n",
    "\n",
    "# Calculate mode for each group\n",
    "mode_M = data.groupby(['name', 'brand'])['model'].apply(lambda x: x.mode()[0] if not x.mode().empty else None).reset_index()\n",
    "\n",
    "# Merge the modes back into the main data_c DataFrame\n",
    "data = data.merge(mode_M, on=['name', 'brand'], how='left', suffixes=('', '_mode'))\n",
    "\n",
    "# Fill missing values in 'model' with the corresponding mode from the new column\n",
    "data['model'] = data.apply(\n",
    "    lambda row: row['model_mode'] if pd.isnull(row['model']) else row['model'], axis=1\n",
    ")\n",
    "\n",
    "# Fill any remaining null values with the overall mode of the 'model' column\n",
    "overall_mode = data['model'].mode()[0]\n",
    "data['model'] = data['model'].fillna(overall_mode)\n",
    "\n",
    "# Drop the auxiliary columns\n",
    "data = data.drop(['model_mode'], axis=1)"
   ]
  },
  {
   "cell_type": "markdown",
   "metadata": {},
   "source": [
    "Checking After"
   ]
  },
  {
   "cell_type": "code",
   "execution_count": 35,
   "metadata": {},
   "outputs": [
    {
     "data": {
      "text/plain": [
       "0"
      ]
     },
     "execution_count": 35,
     "metadata": {},
     "output_type": "execute_result"
    }
   ],
   "source": [
    "data['model'].isnull().sum()"
   ]
  },
  {
   "cell_type": "code",
   "execution_count": 36,
   "metadata": {},
   "outputs": [
    {
     "data": {
      "text/plain": [
       "golf                  34881\n",
       "andere                19967\n",
       "3er                   16844\n",
       "polo                  11005\n",
       "corsa                 10455\n",
       "                      ...  \n",
       "q3                        3\n",
       "range_rover_evoque        2\n",
       "serie_3                   2\n",
       "gl                        2\n",
       "rangerover                2\n",
       "Name: model, Length: 249, dtype: int64"
      ]
     },
     "execution_count": 36,
     "metadata": {},
     "output_type": "execute_result"
    }
   ],
   "source": [
    "data['model'].value_counts()"
   ]
  },
  {
   "cell_type": "markdown",
   "metadata": {},
   "source": [
    "#### Filling Vehicle Type NULLS"
   ]
  },
  {
   "cell_type": "markdown",
   "metadata": {},
   "source": [
    "Checking Before"
   ]
  },
  {
   "cell_type": "code",
   "execution_count": 37,
   "metadata": {},
   "outputs": [
    {
     "data": {
      "text/plain": [
       "20954"
      ]
     },
     "execution_count": 37,
     "metadata": {},
     "output_type": "execute_result"
    }
   ],
   "source": [
    "data['vehicleType'].isnull().sum()"
   ]
  },
  {
   "cell_type": "code",
   "execution_count": 38,
   "metadata": {},
   "outputs": [
    {
     "data": {
      "text/plain": [
       "limousine     78234\n",
       "kleinwagen    68606\n",
       "kombi         55995\n",
       "bus           24799\n",
       "cabrio        17213\n",
       "coupe         13228\n",
       "suv            9154\n",
       "andere         2425\n",
       "Name: vehicleType, dtype: int64"
      ]
     },
     "execution_count": 38,
     "metadata": {},
     "output_type": "execute_result"
    }
   ],
   "source": [
    "data['vehicleType'].value_counts()"
   ]
  },
  {
   "cell_type": "markdown",
   "metadata": {},
   "source": [
    "Fixing"
   ]
  },
  {
   "cell_type": "code",
   "execution_count": 39,
   "metadata": {},
   "outputs": [],
   "source": [
    "# ChatGPT\n",
    "\n",
    "# Calculate mode for each group\n",
    "mode_VT = data.groupby(['name', 'brand', 'model'])['vehicleType'].apply(lambda x: x.mode()[0] if not x.mode().empty else None).reset_index()\n",
    "\n",
    "# Merge the modes back into the main data_c DataFrame\n",
    "data = data.merge(mode_VT, on=['name', 'brand', 'model'], how='left', suffixes=('', '_mode'))\n",
    "\n",
    "# Fill missing values in 'vehicleType' with the corresponding mode from the new column\n",
    "data['vehicleType'] = data.apply(\n",
    "    lambda row: row['vehicleType_mode'] if pd.isnull(row['vehicleType']) else row['vehicleType'], axis=1\n",
    ")\n",
    "\n",
    "# Fill any remaining null values with the overall mode of the 'vehicleType' column\n",
    "overall_mode = data['vehicleType'].mode()[0]\n",
    "data['vehicleType'] = data['vehicleType'].fillna(overall_mode)\n",
    "\n",
    "# Drop the auxiliary columns\n",
    "data = data.drop(['vehicleType_mode'], axis=1)"
   ]
  },
  {
   "cell_type": "markdown",
   "metadata": {},
   "source": [
    "Checking After"
   ]
  },
  {
   "cell_type": "code",
   "execution_count": 40,
   "metadata": {},
   "outputs": [
    {
     "data": {
      "text/plain": [
       "0"
      ]
     },
     "execution_count": 40,
     "metadata": {},
     "output_type": "execute_result"
    }
   ],
   "source": [
    "data['vehicleType'].isnull().sum()"
   ]
  },
  {
   "cell_type": "code",
   "execution_count": 41,
   "metadata": {},
   "outputs": [
    {
     "data": {
      "text/plain": [
       "limousine     96426\n",
       "kleinwagen    70251\n",
       "kombi         56446\n",
       "bus           25108\n",
       "cabrio        17299\n",
       "coupe         13400\n",
       "suv            9198\n",
       "andere         2480\n",
       "Name: vehicleType, dtype: int64"
      ]
     },
     "execution_count": 41,
     "metadata": {},
     "output_type": "execute_result"
    }
   ],
   "source": [
    "data['vehicleType'].value_counts()"
   ]
  },
  {
   "cell_type": "markdown",
   "metadata": {},
   "source": [
    "#### Filling Gear Box NULLS"
   ]
  },
  {
   "cell_type": "markdown",
   "metadata": {},
   "source": [
    "Checking Before"
   ]
  },
  {
   "cell_type": "code",
   "execution_count": 42,
   "metadata": {},
   "outputs": [
    {
     "data": {
      "text/plain": [
       "5944"
      ]
     },
     "execution_count": 42,
     "metadata": {},
     "output_type": "execute_result"
    }
   ],
   "source": [
    "data['gearbox'].isnull().sum()"
   ]
  },
  {
   "cell_type": "code",
   "execution_count": 43,
   "metadata": {},
   "outputs": [
    {
     "data": {
      "text/plain": [
       "manuell      230682\n",
       "automatik     53982\n",
       "Name: gearbox, dtype: int64"
      ]
     },
     "execution_count": 43,
     "metadata": {},
     "output_type": "execute_result"
    }
   ],
   "source": [
    "data['gearbox'].value_counts()"
   ]
  },
  {
   "cell_type": "markdown",
   "metadata": {},
   "source": [
    "Fixing"
   ]
  },
  {
   "cell_type": "code",
   "execution_count": 44,
   "metadata": {},
   "outputs": [],
   "source": [
    "# ChatGPT\n",
    "\n",
    "# Calculate mode for each group\n",
    "mode_GB = data.groupby(['name', 'brand', 'model', 'vehicleType'])['gearbox'].apply(lambda x: x.mode()[0] if not x.mode().empty else None).reset_index()\n",
    "\n",
    "# Merge the modes back into the main data_c DataFrame\n",
    "data = data.merge(mode_GB, on=['name', 'brand', 'model', 'vehicleType'], how='left', suffixes=('', '_mode'))\n",
    "\n",
    "# Fill missing values in 'gearbox' with the corresponding mode from the new column\n",
    "data['gearbox'] = data.apply(\n",
    "    lambda row: row['gearbox_mode'] if pd.isnull(row['gearbox']) else row['gearbox'], axis=1\n",
    ")\n",
    "\n",
    "# Fill any remaining null values with the overall mode of the 'gearbox' column\n",
    "overall_mode = data['gearbox'].mode()[0]\n",
    "data['gearbox'] = data['gearbox'].fillna(overall_mode)\n",
    "\n",
    "# Drop the auxiliary columns\n",
    "data = data.drop(['gearbox_mode'], axis=1)"
   ]
  },
  {
   "cell_type": "markdown",
   "metadata": {},
   "source": [
    "Checking After"
   ]
  },
  {
   "cell_type": "code",
   "execution_count": 45,
   "metadata": {},
   "outputs": [
    {
     "data": {
      "text/plain": [
       "0"
      ]
     },
     "execution_count": 45,
     "metadata": {},
     "output_type": "execute_result"
    }
   ],
   "source": [
    "data['gearbox'].isnull().sum()"
   ]
  },
  {
   "cell_type": "code",
   "execution_count": 46,
   "metadata": {},
   "outputs": [
    {
     "data": {
      "text/plain": [
       "manuell      236219\n",
       "automatik     54389\n",
       "Name: gearbox, dtype: int64"
      ]
     },
     "execution_count": 46,
     "metadata": {},
     "output_type": "execute_result"
    }
   ],
   "source": [
    "data['gearbox'].value_counts()"
   ]
  },
  {
   "cell_type": "markdown",
   "metadata": {},
   "source": [
    "#### Filling Fuel Type NULLS"
   ]
  },
  {
   "cell_type": "markdown",
   "metadata": {},
   "source": [
    "Checking Before"
   ]
  },
  {
   "cell_type": "code",
   "execution_count": 47,
   "metadata": {},
   "outputs": [
    {
     "data": {
      "text/plain": [
       "19460"
      ]
     },
     "execution_count": 47,
     "metadata": {},
     "output_type": "execute_result"
    }
   ],
   "source": [
    "data['fuelType'].isnull().sum()"
   ]
  },
  {
   "cell_type": "code",
   "execution_count": 48,
   "metadata": {},
   "outputs": [
    {
     "data": {
      "text/plain": [
       "benzin     184372\n",
       "diesel      81264\n",
       "lpg          4681\n",
       "cng           490\n",
       "hybrid        177\n",
       "andere         93\n",
       "elektro        71\n",
       "Name: fuelType, dtype: int64"
      ]
     },
     "execution_count": 48,
     "metadata": {},
     "output_type": "execute_result"
    }
   ],
   "source": [
    "data['fuelType'].value_counts()"
   ]
  },
  {
   "cell_type": "markdown",
   "metadata": {},
   "source": [
    "Fixing"
   ]
  },
  {
   "cell_type": "code",
   "execution_count": 49,
   "metadata": {},
   "outputs": [],
   "source": [
    "# ChatGPT\n",
    "\n",
    "# Calculate mode for each group\n",
    "mode_FT = data.groupby(['name', 'brand', 'model', 'vehicleType', 'gearbox'])['fuelType'].apply(lambda x: x.mode()[0] if not x.mode().empty else None).reset_index()\n",
    "\n",
    "# Merge the modes back into the main data_c DataFrame\n",
    "data = data.merge(mode_FT, on=['name', 'brand', 'model', 'vehicleType', 'gearbox'], how='left', suffixes=('', '_mode'))\n",
    "\n",
    "# Fill missing values in 'fuelType' with the corresponding mode from the new column\n",
    "data['fuelType'] = data.apply(\n",
    "    lambda row: row['fuelType_mode'] if pd.isnull(row['fuelType']) else row['fuelType'], axis=1\n",
    ")\n",
    "\n",
    "# Fill any remaining null values with the overall mode of the 'fuelType' column\n",
    "overall_mode = data['fuelType'].mode()[0]\n",
    "data['fuelType'] = data['fuelType'].fillna(overall_mode)\n",
    "\n",
    "# Drop the auxiliary columns\n",
    "data = data.drop(['fuelType_mode'], axis=1)"
   ]
  },
  {
   "cell_type": "markdown",
   "metadata": {},
   "source": [
    "Checking After"
   ]
  },
  {
   "cell_type": "code",
   "execution_count": 50,
   "metadata": {},
   "outputs": [
    {
     "data": {
      "text/plain": [
       "0"
      ]
     },
     "execution_count": 50,
     "metadata": {},
     "output_type": "execute_result"
    }
   ],
   "source": [
    "data['fuelType'].isnull().sum()"
   ]
  },
  {
   "cell_type": "code",
   "execution_count": 51,
   "metadata": {},
   "outputs": [
    {
     "data": {
      "text/plain": [
       "benzin     203357\n",
       "diesel      81715\n",
       "lpg          4698\n",
       "cng           492\n",
       "hybrid        178\n",
       "andere         97\n",
       "elektro        71\n",
       "Name: fuelType, dtype: int64"
      ]
     },
     "execution_count": 51,
     "metadata": {},
     "output_type": "execute_result"
    }
   ],
   "source": [
    "data['fuelType'].value_counts()"
   ]
  },
  {
   "cell_type": "markdown",
   "metadata": {},
   "source": [
    "#### Filling Not Repaired Damage NULLS"
   ]
  },
  {
   "cell_type": "markdown",
   "metadata": {},
   "source": [
    "Checking Before"
   ]
  },
  {
   "cell_type": "code",
   "execution_count": 52,
   "metadata": {},
   "outputs": [
    {
     "data": {
      "text/plain": [
       "45763"
      ]
     },
     "execution_count": 52,
     "metadata": {},
     "output_type": "execute_result"
    }
   ],
   "source": [
    "data['notRepairedDamage'].isnull().sum()"
   ]
  },
  {
   "cell_type": "code",
   "execution_count": 53,
   "metadata": {},
   "outputs": [
    {
     "data": {
      "text/plain": [
       "nein    215573\n",
       "ja       29272\n",
       "Name: notRepairedDamage, dtype: int64"
      ]
     },
     "execution_count": 53,
     "metadata": {},
     "output_type": "execute_result"
    }
   ],
   "source": [
    "data['notRepairedDamage'].value_counts()"
   ]
  },
  {
   "cell_type": "markdown",
   "metadata": {},
   "source": [
    "Since 'notRepairedDamage' is one of the main factors affecting the price, we will add a new category called 'unknown' so we would not change the probability of the column to neither 'nein' nor 'ja'"
   ]
  },
  {
   "cell_type": "markdown",
   "metadata": {},
   "source": [
    "Fixing"
   ]
  },
  {
   "cell_type": "code",
   "execution_count": 54,
   "metadata": {},
   "outputs": [],
   "source": [
    "data['notRepairedDamage'].fillna('unknown', inplace=True)"
   ]
  },
  {
   "cell_type": "markdown",
   "metadata": {},
   "source": [
    "Checking After"
   ]
  },
  {
   "cell_type": "code",
   "execution_count": 55,
   "metadata": {},
   "outputs": [
    {
     "data": {
      "text/plain": [
       "0"
      ]
     },
     "execution_count": 55,
     "metadata": {},
     "output_type": "execute_result"
    }
   ],
   "source": [
    "data['notRepairedDamage'].isnull().sum()"
   ]
  },
  {
   "cell_type": "code",
   "execution_count": 56,
   "metadata": {},
   "outputs": [
    {
     "data": {
      "text/plain": [
       "nein       215573\n",
       "unknown     45763\n",
       "ja          29272\n",
       "Name: notRepairedDamage, dtype: int64"
      ]
     },
     "execution_count": 56,
     "metadata": {},
     "output_type": "execute_result"
    }
   ],
   "source": [
    "data['notRepairedDamage'].value_counts()"
   ]
  },
  {
   "cell_type": "markdown",
   "metadata": {},
   "source": [
    "## ANALYZE"
   ]
  },
  {
   "cell_type": "code",
   "execution_count": 57,
   "metadata": {},
   "outputs": [
    {
     "data": {
      "text/html": [
       "<div>\n",
       "<style scoped>\n",
       "    .dataframe tbody tr th:only-of-type {\n",
       "        vertical-align: middle;\n",
       "    }\n",
       "\n",
       "    .dataframe tbody tr th {\n",
       "        vertical-align: top;\n",
       "    }\n",
       "\n",
       "    .dataframe thead th {\n",
       "        text-align: right;\n",
       "    }\n",
       "</style>\n",
       "<table border=\"1\" class=\"dataframe\">\n",
       "  <thead>\n",
       "    <tr style=\"text-align: right;\">\n",
       "      <th></th>\n",
       "      <th>name</th>\n",
       "      <th>price</th>\n",
       "      <th>abtest</th>\n",
       "      <th>vehicleType</th>\n",
       "      <th>yearOfRegistration</th>\n",
       "      <th>gearbox</th>\n",
       "      <th>powerPS</th>\n",
       "      <th>model</th>\n",
       "      <th>kilometer</th>\n",
       "      <th>fuelType</th>\n",
       "      <th>brand</th>\n",
       "      <th>notRepairedDamage</th>\n",
       "    </tr>\n",
       "  </thead>\n",
       "  <tbody>\n",
       "    <tr>\n",
       "      <th>0</th>\n",
       "      <td>Jeep_Grand_Cherokee_\"Overland\"</td>\n",
       "      <td>9800</td>\n",
       "      <td>test</td>\n",
       "      <td>suv</td>\n",
       "      <td>2004</td>\n",
       "      <td>automatik</td>\n",
       "      <td>163</td>\n",
       "      <td>grand</td>\n",
       "      <td>125000</td>\n",
       "      <td>diesel</td>\n",
       "      <td>jeep</td>\n",
       "      <td>unknown</td>\n",
       "    </tr>\n",
       "    <tr>\n",
       "      <th>1</th>\n",
       "      <td>GOLF_4_1_4__3TÜRER</td>\n",
       "      <td>1500</td>\n",
       "      <td>test</td>\n",
       "      <td>kleinwagen</td>\n",
       "      <td>2001</td>\n",
       "      <td>manuell</td>\n",
       "      <td>75</td>\n",
       "      <td>golf</td>\n",
       "      <td>150000</td>\n",
       "      <td>benzin</td>\n",
       "      <td>volkswagen</td>\n",
       "      <td>nein</td>\n",
       "    </tr>\n",
       "    <tr>\n",
       "      <th>2</th>\n",
       "      <td>Skoda_Fabia_1.4_TDI_PD_Classic</td>\n",
       "      <td>3600</td>\n",
       "      <td>test</td>\n",
       "      <td>kleinwagen</td>\n",
       "      <td>2008</td>\n",
       "      <td>manuell</td>\n",
       "      <td>69</td>\n",
       "      <td>fabia</td>\n",
       "      <td>90000</td>\n",
       "      <td>diesel</td>\n",
       "      <td>skoda</td>\n",
       "      <td>nein</td>\n",
       "    </tr>\n",
       "    <tr>\n",
       "      <th>3</th>\n",
       "      <td>BMW_316i___e36_Limousine___Bastlerfahrzeug__Ex...</td>\n",
       "      <td>650</td>\n",
       "      <td>test</td>\n",
       "      <td>limousine</td>\n",
       "      <td>1995</td>\n",
       "      <td>manuell</td>\n",
       "      <td>102</td>\n",
       "      <td>3er</td>\n",
       "      <td>150000</td>\n",
       "      <td>benzin</td>\n",
       "      <td>bmw</td>\n",
       "      <td>ja</td>\n",
       "    </tr>\n",
       "    <tr>\n",
       "      <th>4</th>\n",
       "      <td>Peugeot_206_CC_110_Platinum</td>\n",
       "      <td>2200</td>\n",
       "      <td>test</td>\n",
       "      <td>cabrio</td>\n",
       "      <td>2004</td>\n",
       "      <td>manuell</td>\n",
       "      <td>109</td>\n",
       "      <td>2_reihe</td>\n",
       "      <td>150000</td>\n",
       "      <td>benzin</td>\n",
       "      <td>peugeot</td>\n",
       "      <td>nein</td>\n",
       "    </tr>\n",
       "  </tbody>\n",
       "</table>\n",
       "</div>"
      ],
      "text/plain": [
       "                                                name  price abtest  \\\n",
       "0                     Jeep_Grand_Cherokee_\"Overland\"   9800   test   \n",
       "1                                 GOLF_4_1_4__3TÜRER   1500   test   \n",
       "2                     Skoda_Fabia_1.4_TDI_PD_Classic   3600   test   \n",
       "3  BMW_316i___e36_Limousine___Bastlerfahrzeug__Ex...    650   test   \n",
       "4                        Peugeot_206_CC_110_Platinum   2200   test   \n",
       "\n",
       "  vehicleType  yearOfRegistration    gearbox  powerPS    model  kilometer  \\\n",
       "0         suv                2004  automatik      163    grand     125000   \n",
       "1  kleinwagen                2001    manuell       75     golf     150000   \n",
       "2  kleinwagen                2008    manuell       69    fabia      90000   \n",
       "3   limousine                1995    manuell      102      3er     150000   \n",
       "4      cabrio                2004    manuell      109  2_reihe     150000   \n",
       "\n",
       "  fuelType       brand notRepairedDamage  \n",
       "0   diesel        jeep           unknown  \n",
       "1   benzin  volkswagen              nein  \n",
       "2   diesel       skoda              nein  \n",
       "3   benzin         bmw                ja  \n",
       "4   benzin     peugeot              nein  "
      ]
     },
     "execution_count": 57,
     "metadata": {},
     "output_type": "execute_result"
    }
   ],
   "source": [
    "data.head()"
   ]
  },
  {
   "cell_type": "markdown",
   "metadata": {},
   "source": [
    "### Creating a Copy from the Cleaned Dataset"
   ]
  },
  {
   "cell_type": "code",
   "execution_count": 58,
   "metadata": {},
   "outputs": [],
   "source": [
    "dataC = data.copy(deep=True)"
   ]
  },
  {
   "cell_type": "markdown",
   "metadata": {},
   "source": [
    "### Enrichment"
   ]
  },
  {
   "cell_type": "markdown",
   "metadata": {},
   "source": [
    "#### Creating Age Column"
   ]
  },
  {
   "cell_type": "markdown",
   "metadata": {},
   "source": [
    "This column is created to check the actual age of the car by subtracting today's year with the 'yearOfRegistration' column "
   ]
  },
  {
   "cell_type": "code",
   "execution_count": 59,
   "metadata": {},
   "outputs": [],
   "source": [
    "dataC['age'] = 2023 - dataC['yearOfRegistration']"
   ]
  },
  {
   "cell_type": "code",
   "execution_count": 60,
   "metadata": {},
   "outputs": [
    {
     "data": {
      "text/plain": [
       "count    290608.000000\n",
       "mean         19.922621\n",
       "std           6.862087\n",
       "min           4.000000\n",
       "25%          16.000000\n",
       "50%          20.000000\n",
       "75%          24.000000\n",
       "max         113.000000\n",
       "Name: age, dtype: float64"
      ]
     },
     "execution_count": 60,
     "metadata": {},
     "output_type": "execute_result"
    }
   ],
   "source": [
    "dataC['age'].describe()"
   ]
  },
  {
   "cell_type": "markdown",
   "metadata": {},
   "source": [
    "#### Categorizing Age using Bins"
   ]
  },
  {
   "cell_type": "code",
   "execution_count": 61,
   "metadata": {},
   "outputs": [
    {
     "data": {
      "text/plain": [
       "count    290608.000000\n",
       "mean         19.922621\n",
       "std           6.862087\n",
       "min           4.000000\n",
       "25%          16.000000\n",
       "50%          20.000000\n",
       "75%          24.000000\n",
       "max         113.000000\n",
       "Name: age, dtype: float64"
      ]
     },
     "execution_count": 61,
     "metadata": {},
     "output_type": "execute_result"
    }
   ],
   "source": [
    "dataC['age'].describe()"
   ]
  },
  {
   "cell_type": "code",
   "execution_count": 62,
   "metadata": {},
   "outputs": [],
   "source": [
    "bins = [0, 5, 10, 20, 30, 40, 50, 60, 70, 80, 90, 100, 1000]\n",
    "labels = ['00-05', '05-10', '10-20', '20-30', '30-40', '40-50', '50-60', '60-70', '70-80',\n",
    "         '80-90', '90-100', '100+']\n",
    "\n",
    "dataC['ageCategory'] = pd.cut(dataC['age'], bins=bins, labels=labels)"
   ]
  },
  {
   "cell_type": "markdown",
   "metadata": {},
   "source": [
    "##### Checking if ageCategory is valid"
   ]
  },
  {
   "cell_type": "code",
   "execution_count": 63,
   "metadata": {},
   "outputs": [
    {
     "data": {
      "text/plain": [
       "10-20     133931\n",
       "20-30     122046\n",
       "05-10      18607\n",
       "30-40      10524\n",
       "00-05       2811\n",
       "40-50       1700\n",
       "50-60        761\n",
       "60-70        176\n",
       "70-80         22\n",
       "80-90         15\n",
       "90-100         8\n",
       "100+           7\n",
       "Name: ageCategory, dtype: int64"
      ]
     },
     "execution_count": 63,
     "metadata": {},
     "output_type": "execute_result"
    }
   ],
   "source": [
    "dataC['ageCategory'].value_counts()"
   ]
  },
  {
   "cell_type": "code",
   "execution_count": 64,
   "metadata": {},
   "outputs": [
    {
     "data": {
      "text/plain": [
       "ageCategory\n",
       "00-05     3652.345073\n",
       "05-10     5054.964261\n",
       "10-20     6492.657316\n",
       "20-30     1932.207545\n",
       "30-40     2813.822406\n",
       "40-50     5977.397059\n",
       "50-60     7468.314060\n",
       "60-70     7107.982955\n",
       "70-80     9050.045455\n",
       "80-90     8973.200000\n",
       "90-100    9649.875000\n",
       "100+      1728.714286\n",
       "Name: price, dtype: float64"
      ]
     },
     "execution_count": 64,
     "metadata": {},
     "output_type": "execute_result"
    }
   ],
   "source": [
    "dataC.groupby(['ageCategory'])['price'].mean()"
   ]
  },
  {
   "cell_type": "markdown",
   "metadata": {},
   "source": [
    "#### Categorizing powerPS using Bins"
   ]
  },
  {
   "cell_type": "code",
   "execution_count": 65,
   "metadata": {},
   "outputs": [
    {
     "data": {
      "text/plain": [
       "count    290608.000000\n",
       "mean        118.158850\n",
       "std          56.579308\n",
       "min           1.000000\n",
       "25%          75.000000\n",
       "50%         109.000000\n",
       "75%         143.000000\n",
       "max        1506.000000\n",
       "Name: powerPS, dtype: float64"
      ]
     },
     "execution_count": 65,
     "metadata": {},
     "output_type": "execute_result"
    }
   ],
   "source": [
    "dataC['powerPS'].describe()"
   ]
  },
  {
   "cell_type": "code",
   "execution_count": 66,
   "metadata": {},
   "outputs": [],
   "source": [
    "bins = [0, 50, 100, 150, 200, 250, 300, 350, 400, 450, 500, 2000]\n",
    "labels = ['00-50', '50-100', '100-150', '150-200', '200-250', '250-300', '300-350',\n",
    "         '350-400', '400-450','450-500', '500+']\n",
    "\n",
    "dataC['powerPScategory'] = pd.cut(dataC['powerPS'], bins=bins, labels=labels)"
   ]
  },
  {
   "cell_type": "markdown",
   "metadata": {},
   "source": [
    "##### Checking if powerPScategory is valid"
   ]
  },
  {
   "cell_type": "code",
   "execution_count": 67,
   "metadata": {},
   "outputs": [
    {
     "data": {
      "text/plain": [
       "100-150    124288\n",
       "50-100     100607\n",
       "150-200     37611\n",
       "200-250     12651\n",
       "00-50        9977\n",
       "250-300      3040\n",
       "300-350      1748\n",
       "350-400       312\n",
       "500+          209\n",
       "400-450       116\n",
       "450-500        49\n",
       "Name: powerPScategory, dtype: int64"
      ]
     },
     "execution_count": 67,
     "metadata": {},
     "output_type": "execute_result"
    }
   ],
   "source": [
    "dataC['powerPScategory'].value_counts()"
   ]
  },
  {
   "cell_type": "code",
   "execution_count": 68,
   "metadata": {},
   "outputs": [
    {
     "data": {
      "text/plain": [
       "powerPScategory\n",
       "00-50       1596.067956\n",
       "50-100      2633.188844\n",
       "100-150     4521.775320\n",
       "150-200     6826.036638\n",
       "200-250     8515.517429\n",
       "250-300     8743.763816\n",
       "300-350     9781.686499\n",
       "350-400    10523.298077\n",
       "400-450    10593.810345\n",
       "450-500    10348.469388\n",
       "500+        4001.157895\n",
       "Name: price, dtype: float64"
      ]
     },
     "execution_count": 68,
     "metadata": {},
     "output_type": "execute_result"
    }
   ],
   "source": [
    "dataC.groupby(['powerPScategory'])['price'].mean()"
   ]
  },
  {
   "cell_type": "markdown",
   "metadata": {},
   "source": [
    "### Encoding the Data for ML"
   ]
  },
  {
   "cell_type": "code",
   "execution_count": 69,
   "metadata": {},
   "outputs": [],
   "source": [
    "dataML = dataC.copy(deep=True)"
   ]
  },
  {
   "cell_type": "code",
   "execution_count": 70,
   "metadata": {},
   "outputs": [
    {
     "data": {
      "text/html": [
       "<div>\n",
       "<style scoped>\n",
       "    .dataframe tbody tr th:only-of-type {\n",
       "        vertical-align: middle;\n",
       "    }\n",
       "\n",
       "    .dataframe tbody tr th {\n",
       "        vertical-align: top;\n",
       "    }\n",
       "\n",
       "    .dataframe thead th {\n",
       "        text-align: right;\n",
       "    }\n",
       "</style>\n",
       "<table border=\"1\" class=\"dataframe\">\n",
       "  <thead>\n",
       "    <tr style=\"text-align: right;\">\n",
       "      <th></th>\n",
       "      <th>name</th>\n",
       "      <th>price</th>\n",
       "      <th>abtest</th>\n",
       "      <th>vehicleType</th>\n",
       "      <th>yearOfRegistration</th>\n",
       "      <th>gearbox</th>\n",
       "      <th>powerPS</th>\n",
       "      <th>model</th>\n",
       "      <th>kilometer</th>\n",
       "      <th>fuelType</th>\n",
       "      <th>brand</th>\n",
       "      <th>notRepairedDamage</th>\n",
       "      <th>age</th>\n",
       "      <th>ageCategory</th>\n",
       "      <th>powerPScategory</th>\n",
       "    </tr>\n",
       "  </thead>\n",
       "  <tbody>\n",
       "    <tr>\n",
       "      <th>0</th>\n",
       "      <td>Jeep_Grand_Cherokee_\"Overland\"</td>\n",
       "      <td>9800</td>\n",
       "      <td>test</td>\n",
       "      <td>suv</td>\n",
       "      <td>2004</td>\n",
       "      <td>automatik</td>\n",
       "      <td>163</td>\n",
       "      <td>grand</td>\n",
       "      <td>125000</td>\n",
       "      <td>diesel</td>\n",
       "      <td>jeep</td>\n",
       "      <td>unknown</td>\n",
       "      <td>19</td>\n",
       "      <td>10-20</td>\n",
       "      <td>150-200</td>\n",
       "    </tr>\n",
       "    <tr>\n",
       "      <th>1</th>\n",
       "      <td>GOLF_4_1_4__3TÜRER</td>\n",
       "      <td>1500</td>\n",
       "      <td>test</td>\n",
       "      <td>kleinwagen</td>\n",
       "      <td>2001</td>\n",
       "      <td>manuell</td>\n",
       "      <td>75</td>\n",
       "      <td>golf</td>\n",
       "      <td>150000</td>\n",
       "      <td>benzin</td>\n",
       "      <td>volkswagen</td>\n",
       "      <td>nein</td>\n",
       "      <td>22</td>\n",
       "      <td>20-30</td>\n",
       "      <td>50-100</td>\n",
       "    </tr>\n",
       "    <tr>\n",
       "      <th>2</th>\n",
       "      <td>Skoda_Fabia_1.4_TDI_PD_Classic</td>\n",
       "      <td>3600</td>\n",
       "      <td>test</td>\n",
       "      <td>kleinwagen</td>\n",
       "      <td>2008</td>\n",
       "      <td>manuell</td>\n",
       "      <td>69</td>\n",
       "      <td>fabia</td>\n",
       "      <td>90000</td>\n",
       "      <td>diesel</td>\n",
       "      <td>skoda</td>\n",
       "      <td>nein</td>\n",
       "      <td>15</td>\n",
       "      <td>10-20</td>\n",
       "      <td>50-100</td>\n",
       "    </tr>\n",
       "    <tr>\n",
       "      <th>3</th>\n",
       "      <td>BMW_316i___e36_Limousine___Bastlerfahrzeug__Ex...</td>\n",
       "      <td>650</td>\n",
       "      <td>test</td>\n",
       "      <td>limousine</td>\n",
       "      <td>1995</td>\n",
       "      <td>manuell</td>\n",
       "      <td>102</td>\n",
       "      <td>3er</td>\n",
       "      <td>150000</td>\n",
       "      <td>benzin</td>\n",
       "      <td>bmw</td>\n",
       "      <td>ja</td>\n",
       "      <td>28</td>\n",
       "      <td>20-30</td>\n",
       "      <td>100-150</td>\n",
       "    </tr>\n",
       "    <tr>\n",
       "      <th>4</th>\n",
       "      <td>Peugeot_206_CC_110_Platinum</td>\n",
       "      <td>2200</td>\n",
       "      <td>test</td>\n",
       "      <td>cabrio</td>\n",
       "      <td>2004</td>\n",
       "      <td>manuell</td>\n",
       "      <td>109</td>\n",
       "      <td>2_reihe</td>\n",
       "      <td>150000</td>\n",
       "      <td>benzin</td>\n",
       "      <td>peugeot</td>\n",
       "      <td>nein</td>\n",
       "      <td>19</td>\n",
       "      <td>10-20</td>\n",
       "      <td>100-150</td>\n",
       "    </tr>\n",
       "  </tbody>\n",
       "</table>\n",
       "</div>"
      ],
      "text/plain": [
       "                                                name  price abtest  \\\n",
       "0                     Jeep_Grand_Cherokee_\"Overland\"   9800   test   \n",
       "1                                 GOLF_4_1_4__3TÜRER   1500   test   \n",
       "2                     Skoda_Fabia_1.4_TDI_PD_Classic   3600   test   \n",
       "3  BMW_316i___e36_Limousine___Bastlerfahrzeug__Ex...    650   test   \n",
       "4                        Peugeot_206_CC_110_Platinum   2200   test   \n",
       "\n",
       "  vehicleType  yearOfRegistration    gearbox  powerPS    model  kilometer  \\\n",
       "0         suv                2004  automatik      163    grand     125000   \n",
       "1  kleinwagen                2001    manuell       75     golf     150000   \n",
       "2  kleinwagen                2008    manuell       69    fabia      90000   \n",
       "3   limousine                1995    manuell      102      3er     150000   \n",
       "4      cabrio                2004    manuell      109  2_reihe     150000   \n",
       "\n",
       "  fuelType       brand notRepairedDamage  age ageCategory powerPScategory  \n",
       "0   diesel        jeep           unknown   19       10-20         150-200  \n",
       "1   benzin  volkswagen              nein   22       20-30          50-100  \n",
       "2   diesel       skoda              nein   15       10-20          50-100  \n",
       "3   benzin         bmw                ja   28       20-30         100-150  \n",
       "4   benzin     peugeot              nein   19       10-20         100-150  "
      ]
     },
     "execution_count": 70,
     "metadata": {},
     "output_type": "execute_result"
    }
   ],
   "source": [
    "dataML.head() "
   ]
  },
  {
   "cell_type": "markdown",
   "metadata": {},
   "source": [
    "#### Brand"
   ]
  },
  {
   "cell_type": "code",
   "execution_count": 71,
   "metadata": {},
   "outputs": [
    {
     "data": {
      "text/plain": [
       "brand\n",
       "alfa_romeo         0\n",
       "audi               1\n",
       "bmw                2\n",
       "chevrolet          3\n",
       "chrysler           4\n",
       "citroen            5\n",
       "dacia              6\n",
       "daewoo             7\n",
       "daihatsu           8\n",
       "fiat               9\n",
       "ford              10\n",
       "honda             11\n",
       "hyundai           12\n",
       "jaguar            13\n",
       "jeep              14\n",
       "kia               15\n",
       "lada              16\n",
       "lancia            17\n",
       "land_rover        18\n",
       "mazda             19\n",
       "mercedes_benz     20\n",
       "mini              21\n",
       "mitsubishi        22\n",
       "nissan            23\n",
       "opel              24\n",
       "peugeot           25\n",
       "porsche           26\n",
       "renault           27\n",
       "rover             28\n",
       "saab              29\n",
       "seat              30\n",
       "skoda             31\n",
       "smart             32\n",
       "sonstige_autos    33\n",
       "subaru            34\n",
       "suzuki            35\n",
       "toyota            36\n",
       "trabant           37\n",
       "volkswagen        38\n",
       "volvo             39\n",
       "Name: brand_n, dtype: int32"
      ]
     },
     "execution_count": 71,
     "metadata": {},
     "output_type": "execute_result"
    }
   ],
   "source": [
    "le_brand = LabelEncoder()\n",
    "dataML['brand_n'] = le_brand.fit_transform(dataML['brand'])\n",
    "\n",
    "# To see the code for each value\n",
    "dataML.groupby('brand')['brand_n'].first() "
   ]
  },
  {
   "cell_type": "code",
   "execution_count": 72,
   "metadata": {},
   "outputs": [],
   "source": [
    "# Removing the original column\n",
    "dataML.drop('brand', axis=1, inplace=True)"
   ]
  },
  {
   "cell_type": "markdown",
   "metadata": {},
   "source": [
    "#### Model"
   ]
  },
  {
   "cell_type": "code",
   "execution_count": 73,
   "metadata": {},
   "outputs": [
    {
     "data": {
      "text/plain": [
       "model\n",
       "100          0\n",
       "145          1\n",
       "147          2\n",
       "156          3\n",
       "159          4\n",
       "          ... \n",
       "yaris      244\n",
       "yeti       245\n",
       "ypsilon    246\n",
       "z_reihe    247\n",
       "zafira     248\n",
       "Name: model_n, Length: 249, dtype: int32"
      ]
     },
     "execution_count": 73,
     "metadata": {},
     "output_type": "execute_result"
    }
   ],
   "source": [
    "le_model = LabelEncoder()\n",
    "dataML['model_n'] = le_model.fit_transform(dataML['model'])\n",
    "\n",
    "# To see the code for each value\n",
    "dataML.groupby('model')['model_n'].first()"
   ]
  },
  {
   "cell_type": "code",
   "execution_count": 74,
   "metadata": {},
   "outputs": [],
   "source": [
    "# Removing the original column\n",
    "dataML.drop('model', axis=1, inplace=True)"
   ]
  },
  {
   "cell_type": "markdown",
   "metadata": {},
   "source": [
    "#### Name"
   ]
  },
  {
   "cell_type": "code",
   "execution_count": 75,
   "metadata": {},
   "outputs": [
    {
     "data": {
      "text/plain": [
       "name\n",
       "!!!!!!!!!!!!!!!!_VERKAUFE_OPEL_CORSA_B_!!!!!!!!!!!!!!!                     0\n",
       "!!!!!!!!!!!!!!Renault_Clio_5_Tuerig_Servolenkung_!!!!!!!!!!!!!!!!!         1\n",
       "!!!!!!!!!!!!_Seat_Toledo_1M_!!!!!!!!!!!                                    2\n",
       "!!!!!!!!!!Corsa_D_5_Tuerer_tuev_Neu_03/2018!!!!!!!!!!                      3\n",
       "!!!!!!!!BMW_530D_Touring_Vollausstattung!!!!!!                             4\n",
       "                                                                       ...  \n",
       "•_Polo_6N_•_TÜV/AU_NEU_•_3.HAND_•_VIELE_EXTRAS.._•                    182495\n",
       "•_Zuverlaessiges_Auto_vom_Kfz_Mechatroniker_zu_verkaufen_•            182496\n",
       "•••_TOP_Twingo__C06__•••_54.100KM_•••                                 182497\n",
       "€€€_Mercedes_Benz_E200_Kompressor___Garage___Scheckheft_€€€           182498\n",
       "€€€_Mercedes_E200_Kompressor___Garagenwagen___Scheckheft_€€€          182499\n",
       "Name: name_n, Length: 182500, dtype: int32"
      ]
     },
     "execution_count": 75,
     "metadata": {},
     "output_type": "execute_result"
    }
   ],
   "source": [
    "le_name = LabelEncoder()\n",
    "dataML['name_n'] = le_name.fit_transform(dataML['name'])\n",
    "\n",
    "# To see the code for each value\n",
    "dataML.groupby('name')['name_n'].first()"
   ]
  },
  {
   "cell_type": "code",
   "execution_count": 76,
   "metadata": {},
   "outputs": [],
   "source": [
    "# Removing the original column\n",
    "dataML.drop('name', axis=1, inplace=True)"
   ]
  },
  {
   "cell_type": "markdown",
   "metadata": {},
   "source": [
    "#### Vehicle Type"
   ]
  },
  {
   "cell_type": "code",
   "execution_count": 77,
   "metadata": {},
   "outputs": [
    {
     "data": {
      "text/plain": [
       "vehicleType\n",
       "andere        0\n",
       "bus           1\n",
       "cabrio        2\n",
       "coupe         3\n",
       "kleinwagen    4\n",
       "kombi         5\n",
       "limousine     6\n",
       "suv           7\n",
       "Name: vehicleType_n, dtype: int32"
      ]
     },
     "execution_count": 77,
     "metadata": {},
     "output_type": "execute_result"
    }
   ],
   "source": [
    "le_vehicleType = LabelEncoder()\n",
    "dataML['vehicleType_n'] = le_vehicleType.fit_transform(dataML['vehicleType'])\n",
    "\n",
    "# To see the code for each value\n",
    "dataML.groupby('vehicleType')['vehicleType_n'].first()"
   ]
  },
  {
   "cell_type": "code",
   "execution_count": 78,
   "metadata": {},
   "outputs": [],
   "source": [
    "# Removing the original column\n",
    "dataML.drop('vehicleType', axis=1, inplace=True)"
   ]
  },
  {
   "cell_type": "markdown",
   "metadata": {},
   "source": [
    "#### Gearbox"
   ]
  },
  {
   "cell_type": "code",
   "execution_count": 79,
   "metadata": {},
   "outputs": [
    {
     "data": {
      "text/plain": [
       "gearbox\n",
       "automatik    0\n",
       "manuell      1\n",
       "Name: gearbox_n, dtype: int32"
      ]
     },
     "execution_count": 79,
     "metadata": {},
     "output_type": "execute_result"
    }
   ],
   "source": [
    "le_gearbox = LabelEncoder()\n",
    "dataML['gearbox_n'] = le_gearbox.fit_transform(dataML['gearbox'])\n",
    "\n",
    "# To see the code for each value\n",
    "dataML.groupby('gearbox')['gearbox_n'].first()"
   ]
  },
  {
   "cell_type": "code",
   "execution_count": 80,
   "metadata": {},
   "outputs": [],
   "source": [
    "# Removing the original column\n",
    "dataML.drop('gearbox', axis=1, inplace=True)"
   ]
  },
  {
   "cell_type": "markdown",
   "metadata": {},
   "source": [
    "#### Power PS Category"
   ]
  },
  {
   "cell_type": "code",
   "execution_count": 81,
   "metadata": {},
   "outputs": [
    {
     "data": {
      "text/plain": [
       "powerPScategory\n",
       "00-50       0\n",
       "50-100      9\n",
       "100-150     1\n",
       "150-200     2\n",
       "200-250     3\n",
       "250-300     4\n",
       "300-350     5\n",
       "350-400     6\n",
       "400-450     7\n",
       "450-500     8\n",
       "500+       10\n",
       "Name: powerPScategory_n, dtype: int32"
      ]
     },
     "execution_count": 81,
     "metadata": {},
     "output_type": "execute_result"
    }
   ],
   "source": [
    "le_powerPScategory = LabelEncoder()\n",
    "dataML['powerPScategory_n'] = le_powerPScategory.fit_transform(dataML['powerPScategory'])\n",
    "\n",
    "# To see the code for each value\n",
    "dataML.groupby('powerPScategory')['powerPScategory_n'].first()"
   ]
  },
  {
   "cell_type": "code",
   "execution_count": 82,
   "metadata": {},
   "outputs": [],
   "source": [
    "# Removing the original column\n",
    "dataML.drop('powerPScategory', axis=1, inplace=True)"
   ]
  },
  {
   "cell_type": "markdown",
   "metadata": {},
   "source": [
    "#### Fuel Type"
   ]
  },
  {
   "cell_type": "code",
   "execution_count": 83,
   "metadata": {},
   "outputs": [
    {
     "data": {
      "text/plain": [
       "fuelType\n",
       "andere     0\n",
       "benzin     1\n",
       "cng        2\n",
       "diesel     3\n",
       "elektro    4\n",
       "hybrid     5\n",
       "lpg        6\n",
       "Name: fuelType_n, dtype: int32"
      ]
     },
     "execution_count": 83,
     "metadata": {},
     "output_type": "execute_result"
    }
   ],
   "source": [
    "le_fuelType = LabelEncoder()\n",
    "dataML['fuelType_n'] = le_fuelType.fit_transform(dataML['fuelType'])\n",
    "\n",
    "# To see the code for each value\n",
    "dataML.groupby('fuelType')['fuelType_n'].first()"
   ]
  },
  {
   "cell_type": "code",
   "execution_count": 84,
   "metadata": {},
   "outputs": [],
   "source": [
    "# Removing the original column\n",
    "dataML.drop('fuelType', axis=1, inplace=True)"
   ]
  },
  {
   "cell_type": "markdown",
   "metadata": {},
   "source": [
    "#### Not Repaired Damage"
   ]
  },
  {
   "cell_type": "code",
   "execution_count": 85,
   "metadata": {},
   "outputs": [
    {
     "data": {
      "text/plain": [
       "notRepairedDamage\n",
       "ja         0\n",
       "nein       1\n",
       "unknown    2\n",
       "Name: notRepairedDamage_n, dtype: int32"
      ]
     },
     "execution_count": 85,
     "metadata": {},
     "output_type": "execute_result"
    }
   ],
   "source": [
    "le_notRepairedDamage = LabelEncoder()\n",
    "dataML['notRepairedDamage_n'] = le_notRepairedDamage.fit_transform(dataML['notRepairedDamage'])\n",
    "\n",
    "# To see the code for each value\n",
    "dataML.groupby('notRepairedDamage')['notRepairedDamage_n'].first()"
   ]
  },
  {
   "cell_type": "code",
   "execution_count": 86,
   "metadata": {},
   "outputs": [],
   "source": [
    "# Removing the original column\n",
    "dataML.drop('notRepairedDamage', axis=1, inplace=True)"
   ]
  },
  {
   "cell_type": "markdown",
   "metadata": {},
   "source": [
    "#### Age Category"
   ]
  },
  {
   "cell_type": "code",
   "execution_count": 87,
   "metadata": {},
   "outputs": [
    {
     "data": {
      "text/plain": [
       "ageCategory\n",
       "00-05      0\n",
       "05-10      1\n",
       "10-20      2\n",
       "20-30      4\n",
       "30-40      5\n",
       "40-50      6\n",
       "50-60      7\n",
       "60-70      8\n",
       "70-80      9\n",
       "80-90     10\n",
       "90-100    11\n",
       "100+       3\n",
       "Name: ageCategory_n, dtype: int32"
      ]
     },
     "execution_count": 87,
     "metadata": {},
     "output_type": "execute_result"
    }
   ],
   "source": [
    "le_ageCategory = LabelEncoder()\n",
    "dataML['ageCategory_n'] = le_ageCategory.fit_transform(dataML['ageCategory'])\n",
    "\n",
    "# To see the code for each value\n",
    "dataML.groupby('ageCategory')['ageCategory_n'].first()"
   ]
  },
  {
   "cell_type": "code",
   "execution_count": 88,
   "metadata": {},
   "outputs": [],
   "source": [
    "# Removing the original column\n",
    "dataML.drop('ageCategory', axis=1, inplace=True)"
   ]
  },
  {
   "cell_type": "markdown",
   "metadata": {},
   "source": [
    "#### AB Test"
   ]
  },
  {
   "cell_type": "code",
   "execution_count": 89,
   "metadata": {},
   "outputs": [
    {
     "data": {
      "text/plain": [
       "abtest\n",
       "control    0\n",
       "test       1\n",
       "Name: abtest_n, dtype: int32"
      ]
     },
     "execution_count": 89,
     "metadata": {},
     "output_type": "execute_result"
    }
   ],
   "source": [
    "le_abtest = LabelEncoder()\n",
    "dataML['abtest_n'] = le_abtest.fit_transform(dataML['abtest'])\n",
    "\n",
    "# To see the code for each value\n",
    "dataML.groupby('abtest')['abtest_n'].first()"
   ]
  },
  {
   "cell_type": "code",
   "execution_count": 90,
   "metadata": {},
   "outputs": [],
   "source": [
    "# Removing the original column\n",
    "dataML.drop('abtest', axis=1, inplace=True)"
   ]
  },
  {
   "cell_type": "markdown",
   "metadata": {},
   "source": [
    "### Orgaznizing the Columns"
   ]
  },
  {
   "cell_type": "code",
   "execution_count": 91,
   "metadata": {},
   "outputs": [],
   "source": [
    "dataML = dataML[['brand_n','model_n','name_n','vehicleType_n','gearbox_n','powerPS','powerPScategory_n',\n",
    "               'fuelType_n','kilometer','notRepairedDamage_n','yearOfRegistration','age','ageCategory_n',\n",
    "               'abtest_n','price']]"
   ]
  },
  {
   "cell_type": "markdown",
   "metadata": {},
   "source": [
    "## MACHINE LEARNING"
   ]
  },
  {
   "cell_type": "markdown",
   "metadata": {},
   "source": [
    "### Creating a Copy for the ML Models"
   ]
  },
  {
   "cell_type": "code",
   "execution_count": 92,
   "metadata": {},
   "outputs": [],
   "source": [
    "dataMLM = dataML.copy(deep=True)"
   ]
  },
  {
   "cell_type": "markdown",
   "metadata": {},
   "source": [
    "### Normalizing the Data"
   ]
  },
  {
   "cell_type": "code",
   "execution_count": 93,
   "metadata": {},
   "outputs": [],
   "source": [
    "# Assuming dataML is a pandas DataFrame\n",
    "original_columns = dataMLM.columns  # Store the column names\n",
    "\n",
    "scaler = MinMaxScaler()\n",
    "dataMLM = scaler.fit_transform(dataMLM)\n",
    "\n",
    "# Convert the scaled NumPy array back to a pandas DataFrame\n",
    "dataMLM = pd.DataFrame(dataMLM, columns=original_columns)"
   ]
  },
  {
   "cell_type": "code",
   "execution_count": 94,
   "metadata": {},
   "outputs": [
    {
     "data": {
      "text/html": [
       "<div>\n",
       "<style scoped>\n",
       "    .dataframe tbody tr th:only-of-type {\n",
       "        vertical-align: middle;\n",
       "    }\n",
       "\n",
       "    .dataframe tbody tr th {\n",
       "        vertical-align: top;\n",
       "    }\n",
       "\n",
       "    .dataframe thead th {\n",
       "        text-align: right;\n",
       "    }\n",
       "</style>\n",
       "<table border=\"1\" class=\"dataframe\">\n",
       "  <thead>\n",
       "    <tr style=\"text-align: right;\">\n",
       "      <th></th>\n",
       "      <th>brand_n</th>\n",
       "      <th>model_n</th>\n",
       "      <th>name_n</th>\n",
       "      <th>vehicleType_n</th>\n",
       "      <th>gearbox_n</th>\n",
       "      <th>powerPS</th>\n",
       "      <th>powerPScategory_n</th>\n",
       "      <th>fuelType_n</th>\n",
       "      <th>kilometer</th>\n",
       "      <th>notRepairedDamage_n</th>\n",
       "      <th>yearOfRegistration</th>\n",
       "      <th>age</th>\n",
       "      <th>ageCategory_n</th>\n",
       "      <th>abtest_n</th>\n",
       "      <th>price</th>\n",
       "    </tr>\n",
       "  </thead>\n",
       "  <tbody>\n",
       "    <tr>\n",
       "      <th>0</th>\n",
       "      <td>0.358974</td>\n",
       "      <td>0.475806</td>\n",
       "      <td>0.384117</td>\n",
       "      <td>1.000000</td>\n",
       "      <td>0.0</td>\n",
       "      <td>0.107641</td>\n",
       "      <td>0.2</td>\n",
       "      <td>0.500000</td>\n",
       "      <td>0.827586</td>\n",
       "      <td>1.0</td>\n",
       "      <td>0.862385</td>\n",
       "      <td>0.137615</td>\n",
       "      <td>0.181818</td>\n",
       "      <td>1.0</td>\n",
       "      <td>0.602311</td>\n",
       "    </tr>\n",
       "    <tr>\n",
       "      <th>1</th>\n",
       "      <td>0.974359</td>\n",
       "      <td>0.471774</td>\n",
       "      <td>0.323289</td>\n",
       "      <td>0.571429</td>\n",
       "      <td>1.0</td>\n",
       "      <td>0.049169</td>\n",
       "      <td>0.9</td>\n",
       "      <td>0.166667</td>\n",
       "      <td>1.000000</td>\n",
       "      <td>0.5</td>\n",
       "      <td>0.834862</td>\n",
       "      <td>0.165138</td>\n",
       "      <td>0.363636</td>\n",
       "      <td>1.0</td>\n",
       "      <td>0.092138</td>\n",
       "    </tr>\n",
       "    <tr>\n",
       "      <th>2</th>\n",
       "      <td>0.794872</td>\n",
       "      <td>0.411290</td>\n",
       "      <td>0.729325</td>\n",
       "      <td>0.571429</td>\n",
       "      <td>1.0</td>\n",
       "      <td>0.045183</td>\n",
       "      <td>0.9</td>\n",
       "      <td>0.500000</td>\n",
       "      <td>0.586207</td>\n",
       "      <td>0.5</td>\n",
       "      <td>0.899083</td>\n",
       "      <td>0.100917</td>\n",
       "      <td>0.181818</td>\n",
       "      <td>1.0</td>\n",
       "      <td>0.221218</td>\n",
       "    </tr>\n",
       "    <tr>\n",
       "      <th>3</th>\n",
       "      <td>0.051282</td>\n",
       "      <td>0.044355</td>\n",
       "      <td>0.110532</td>\n",
       "      <td>0.857143</td>\n",
       "      <td>1.0</td>\n",
       "      <td>0.067110</td>\n",
       "      <td>0.1</td>\n",
       "      <td>0.166667</td>\n",
       "      <td>1.000000</td>\n",
       "      <td>0.0</td>\n",
       "      <td>0.779817</td>\n",
       "      <td>0.220183</td>\n",
       "      <td>0.363636</td>\n",
       "      <td>1.0</td>\n",
       "      <td>0.039892</td>\n",
       "    </tr>\n",
       "    <tr>\n",
       "      <th>4</th>\n",
       "      <td>0.641026</td>\n",
       "      <td>0.032258</td>\n",
       "      <td>0.621061</td>\n",
       "      <td>0.285714</td>\n",
       "      <td>1.0</td>\n",
       "      <td>0.071761</td>\n",
       "      <td>0.1</td>\n",
       "      <td>0.166667</td>\n",
       "      <td>1.000000</td>\n",
       "      <td>0.5</td>\n",
       "      <td>0.862385</td>\n",
       "      <td>0.137615</td>\n",
       "      <td>0.181818</td>\n",
       "      <td>1.0</td>\n",
       "      <td>0.135165</td>\n",
       "    </tr>\n",
       "  </tbody>\n",
       "</table>\n",
       "</div>"
      ],
      "text/plain": [
       "    brand_n   model_n    name_n  vehicleType_n  gearbox_n   powerPS  \\\n",
       "0  0.358974  0.475806  0.384117       1.000000        0.0  0.107641   \n",
       "1  0.974359  0.471774  0.323289       0.571429        1.0  0.049169   \n",
       "2  0.794872  0.411290  0.729325       0.571429        1.0  0.045183   \n",
       "3  0.051282  0.044355  0.110532       0.857143        1.0  0.067110   \n",
       "4  0.641026  0.032258  0.621061       0.285714        1.0  0.071761   \n",
       "\n",
       "   powerPScategory_n  fuelType_n  kilometer  notRepairedDamage_n  \\\n",
       "0                0.2    0.500000   0.827586                  1.0   \n",
       "1                0.9    0.166667   1.000000                  0.5   \n",
       "2                0.9    0.500000   0.586207                  0.5   \n",
       "3                0.1    0.166667   1.000000                  0.0   \n",
       "4                0.1    0.166667   1.000000                  0.5   \n",
       "\n",
       "   yearOfRegistration       age  ageCategory_n  abtest_n     price  \n",
       "0            0.862385  0.137615       0.181818       1.0  0.602311  \n",
       "1            0.834862  0.165138       0.363636       1.0  0.092138  \n",
       "2            0.899083  0.100917       0.181818       1.0  0.221218  \n",
       "3            0.779817  0.220183       0.363636       1.0  0.039892  \n",
       "4            0.862385  0.137615       0.181818       1.0  0.135165  "
      ]
     },
     "execution_count": 94,
     "metadata": {},
     "output_type": "execute_result"
    }
   ],
   "source": [
    "dataMLM.head()"
   ]
  },
  {
   "cell_type": "markdown",
   "metadata": {},
   "source": [
    "### Correlation for Feature Extraction"
   ]
  },
  {
   "cell_type": "code",
   "execution_count": 95,
   "metadata": {},
   "outputs": [
    {
     "data": {
      "text/html": [
       "<style type=\"text/css\">\n",
       "#T_a89b5_row0_col0, #T_a89b5_row1_col1, #T_a89b5_row2_col2, #T_a89b5_row3_col3, #T_a89b5_row4_col4 {\n",
       "  background-color: #006837;\n",
       "  color: #f1f1f1;\n",
       "}\n",
       "#T_a89b5_row0_col1 {\n",
       "  background-color: #fec877;\n",
       "  color: #000000;\n",
       "}\n",
       "#T_a89b5_row0_col2 {\n",
       "  background-color: #f1f9ac;\n",
       "  color: #000000;\n",
       "}\n",
       "#T_a89b5_row0_col3 {\n",
       "  background-color: #fff3ac;\n",
       "  color: #000000;\n",
       "}\n",
       "#T_a89b5_row0_col4 {\n",
       "  background-color: #daf08d;\n",
       "  color: #000000;\n",
       "}\n",
       "#T_a89b5_row1_col0 {\n",
       "  background-color: #f26841;\n",
       "  color: #f1f1f1;\n",
       "}\n",
       "#T_a89b5_row1_col2 {\n",
       "  background-color: #feda86;\n",
       "  color: #000000;\n",
       "}\n",
       "#T_a89b5_row1_col3 {\n",
       "  background-color: #d3ec87;\n",
       "  color: #000000;\n",
       "}\n",
       "#T_a89b5_row1_col4 {\n",
       "  background-color: #bd1726;\n",
       "  color: #f1f1f1;\n",
       "}\n",
       "#T_a89b5_row2_col0 {\n",
       "  background-color: #e34933;\n",
       "  color: #f1f1f1;\n",
       "}\n",
       "#T_a89b5_row2_col1 {\n",
       "  background-color: #d02927;\n",
       "  color: #f1f1f1;\n",
       "}\n",
       "#T_a89b5_row2_col3, #T_a89b5_row3_col0, #T_a89b5_row3_col2, #T_a89b5_row3_col4, #T_a89b5_row4_col1 {\n",
       "  background-color: #a50026;\n",
       "  color: #f1f1f1;\n",
       "}\n",
       "#T_a89b5_row2_col4 {\n",
       "  background-color: #dff293;\n",
       "  color: #000000;\n",
       "}\n",
       "#T_a89b5_row3_col1 {\n",
       "  background-color: #fee695;\n",
       "  color: #000000;\n",
       "}\n",
       "#T_a89b5_row4_col0 {\n",
       "  background-color: #fff6b0;\n",
       "  color: #000000;\n",
       "}\n",
       "#T_a89b5_row4_col2 {\n",
       "  background-color: #a2d76a;\n",
       "  color: #000000;\n",
       "}\n",
       "#T_a89b5_row4_col3 {\n",
       "  background-color: #fcaa5f;\n",
       "  color: #000000;\n",
       "}\n",
       "</style>\n",
       "<table id=\"T_a89b5\">\n",
       "  <thead>\n",
       "    <tr>\n",
       "      <th class=\"blank level0\" >&nbsp;</th>\n",
       "      <th id=\"T_a89b5_level0_col0\" class=\"col_heading level0 col0\" >powerPS</th>\n",
       "      <th id=\"T_a89b5_level0_col1\" class=\"col_heading level0 col1\" >kilometer</th>\n",
       "      <th id=\"T_a89b5_level0_col2\" class=\"col_heading level0 col2\" >yearOfRegistration</th>\n",
       "      <th id=\"T_a89b5_level0_col3\" class=\"col_heading level0 col3\" >age</th>\n",
       "      <th id=\"T_a89b5_level0_col4\" class=\"col_heading level0 col4\" >price</th>\n",
       "    </tr>\n",
       "  </thead>\n",
       "  <tbody>\n",
       "    <tr>\n",
       "      <th id=\"T_a89b5_level0_row0\" class=\"row_heading level0 row0\" >powerPS</th>\n",
       "      <td id=\"T_a89b5_row0_col0\" class=\"data row0 col0\" >1.000000</td>\n",
       "      <td id=\"T_a89b5_row0_col1\" class=\"data row0 col1\" >0.131299</td>\n",
       "      <td id=\"T_a89b5_row0_col2\" class=\"data row0 col2\" >0.075761</td>\n",
       "      <td id=\"T_a89b5_row0_col3\" class=\"data row0 col3\" >-0.075761</td>\n",
       "      <td id=\"T_a89b5_row0_col4\" class=\"data row0 col4\" >0.428582</td>\n",
       "    </tr>\n",
       "    <tr>\n",
       "      <th id=\"T_a89b5_level0_row1\" class=\"row_heading level0 row1\" >kilometer</th>\n",
       "      <td id=\"T_a89b5_row1_col0\" class=\"data row1 col0\" >0.131299</td>\n",
       "      <td id=\"T_a89b5_row1_col1\" class=\"data row1 col1\" >1.000000</td>\n",
       "      <td id=\"T_a89b5_row1_col2\" class=\"data row1 col2\" >-0.223516</td>\n",
       "      <td id=\"T_a89b5_row1_col3\" class=\"data row1 col3\" >0.223516</td>\n",
       "      <td id=\"T_a89b5_row1_col4\" class=\"data row1 col4\" >-0.342168</td>\n",
       "    </tr>\n",
       "    <tr>\n",
       "      <th id=\"T_a89b5_level0_row2\" class=\"row_heading level0 row2\" >yearOfRegistration</th>\n",
       "      <td id=\"T_a89b5_row2_col0\" class=\"data row2 col0\" >0.075761</td>\n",
       "      <td id=\"T_a89b5_row2_col1\" class=\"data row2 col1\" >-0.223516</td>\n",
       "      <td id=\"T_a89b5_row2_col2\" class=\"data row2 col2\" >1.000000</td>\n",
       "      <td id=\"T_a89b5_row2_col3\" class=\"data row2 col3\" >-1.000000</td>\n",
       "      <td id=\"T_a89b5_row2_col4\" class=\"data row2 col4\" >0.412234</td>\n",
       "    </tr>\n",
       "    <tr>\n",
       "      <th id=\"T_a89b5_level0_row3\" class=\"row_heading level0 row3\" >age</th>\n",
       "      <td id=\"T_a89b5_row3_col0\" class=\"data row3 col0\" >-0.075761</td>\n",
       "      <td id=\"T_a89b5_row3_col1\" class=\"data row3 col1\" >0.223516</td>\n",
       "      <td id=\"T_a89b5_row3_col2\" class=\"data row3 col2\" >-1.000000</td>\n",
       "      <td id=\"T_a89b5_row3_col3\" class=\"data row3 col3\" >1.000000</td>\n",
       "      <td id=\"T_a89b5_row3_col4\" class=\"data row3 col4\" >-0.412234</td>\n",
       "    </tr>\n",
       "    <tr>\n",
       "      <th id=\"T_a89b5_level0_row4\" class=\"row_heading level0 row4\" >price</th>\n",
       "      <td id=\"T_a89b5_row4_col0\" class=\"data row4 col0\" >0.428582</td>\n",
       "      <td id=\"T_a89b5_row4_col1\" class=\"data row4 col1\" >-0.342168</td>\n",
       "      <td id=\"T_a89b5_row4_col2\" class=\"data row4 col2\" >0.412234</td>\n",
       "      <td id=\"T_a89b5_row4_col3\" class=\"data row4 col3\" >-0.412234</td>\n",
       "      <td id=\"T_a89b5_row4_col4\" class=\"data row4 col4\" >1.000000</td>\n",
       "    </tr>\n",
       "  </tbody>\n",
       "</table>\n"
      ],
      "text/plain": [
       "<pandas.io.formats.style.Styler at 0x264cbb70220>"
      ]
     },
     "execution_count": 95,
     "metadata": {},
     "output_type": "execute_result"
    }
   ],
   "source": [
    "dataCor = dataMLM[['powerPS','kilometer','yearOfRegistration','age','price']]\n",
    "cor = dataCor.corr()\n",
    "cor.style.background_gradient(cmap='RdYlGn')"
   ]
  },
  {
   "cell_type": "markdown",
   "metadata": {},
   "source": [
    "I extracted only the features that were not encoded. Since, I believe the numerical encode will give me fake information  \n",
    "\n",
    "As we can see the powerPS, kilometer, yearOfRegistration, and age have huge effect on the price so they are main features for us and can not be removed"
   ]
  },
  {
   "cell_type": "code",
   "execution_count": 96,
   "metadata": {},
   "outputs": [
    {
     "data": {
      "text/html": [
       "<style type=\"text/css\">\n",
       "#T_15f5b_row0_col0, #T_15f5b_row1_col1, #T_15f5b_row2_col2, #T_15f5b_row3_col3, #T_15f5b_row4_col4, #T_15f5b_row5_col5, #T_15f5b_row6_col6, #T_15f5b_row7_col7, #T_15f5b_row8_col8, #T_15f5b_row9_col9, #T_15f5b_row10_col10, #T_15f5b_row11_col11, #T_15f5b_row12_col12, #T_15f5b_row13_col13, #T_15f5b_row14_col14 {\n",
       "  background-color: #006837;\n",
       "  color: #f1f1f1;\n",
       "}\n",
       "#T_15f5b_row0_col1 {\n",
       "  background-color: #e5f49b;\n",
       "  color: #000000;\n",
       "}\n",
       "#T_15f5b_row0_col2 {\n",
       "  background-color: #33a456;\n",
       "  color: #f1f1f1;\n",
       "}\n",
       "#T_15f5b_row0_col3 {\n",
       "  background-color: #c41e27;\n",
       "  color: #f1f1f1;\n",
       "}\n",
       "#T_15f5b_row0_col4, #T_15f5b_row10_col5 {\n",
       "  background-color: #fdc574;\n",
       "  color: #000000;\n",
       "}\n",
       "#T_15f5b_row0_col5 {\n",
       "  background-color: #ce2827;\n",
       "  color: #f1f1f1;\n",
       "}\n",
       "#T_15f5b_row0_col6, #T_15f5b_row7_col11, #T_15f5b_row11_col8 {\n",
       "  background-color: #fee695;\n",
       "  color: #000000;\n",
       "}\n",
       "#T_15f5b_row0_col7, #T_15f5b_row14_col3 {\n",
       "  background-color: #e24731;\n",
       "  color: #f1f1f1;\n",
       "}\n",
       "#T_15f5b_row0_col8, #T_15f5b_row2_col8, #T_15f5b_row12_col5 {\n",
       "  background-color: #f57748;\n",
       "  color: #f1f1f1;\n",
       "}\n",
       "#T_15f5b_row0_col9, #T_15f5b_row4_col9, #T_15f5b_row6_col9 {\n",
       "  background-color: #bb1526;\n",
       "  color: #f1f1f1;\n",
       "}\n",
       "#T_15f5b_row0_col10, #T_15f5b_row13_col10 {\n",
       "  background-color: #fffebe;\n",
       "  color: #000000;\n",
       "}\n",
       "#T_15f5b_row0_col11, #T_15f5b_row13_col11 {\n",
       "  background-color: #feffbe;\n",
       "  color: #000000;\n",
       "}\n",
       "#T_15f5b_row0_col12 {\n",
       "  background-color: #fffab6;\n",
       "  color: #000000;\n",
       "}\n",
       "#T_15f5b_row0_col13, #T_15f5b_row2_col13, #T_15f5b_row11_col13, #T_15f5b_row12_col7, #T_15f5b_row12_col13 {\n",
       "  background-color: #a90426;\n",
       "  color: #f1f1f1;\n",
       "}\n",
       "#T_15f5b_row0_col14, #T_15f5b_row1_col8, #T_15f5b_row11_col5 {\n",
       "  background-color: #f8864f;\n",
       "  color: #f1f1f1;\n",
       "}\n",
       "#T_15f5b_row1_col0, #T_15f5b_row5_col14 {\n",
       "  background-color: #d7ee8a;\n",
       "  color: #000000;\n",
       "}\n",
       "#T_15f5b_row1_col2 {\n",
       "  background-color: #e2f397;\n",
       "  color: #000000;\n",
       "}\n",
       "#T_15f5b_row1_col3, #T_15f5b_row3_col1, #T_15f5b_row5_col0, #T_15f5b_row5_col2, #T_15f5b_row5_col4, #T_15f5b_row5_col6, #T_15f5b_row5_col13, #T_15f5b_row6_col5, #T_15f5b_row6_col7, #T_15f5b_row7_col9, #T_15f5b_row7_col13, #T_15f5b_row8_col13, #T_15f5b_row9_col13, #T_15f5b_row10_col11, #T_15f5b_row10_col12, #T_15f5b_row10_col13, #T_15f5b_row11_col9, #T_15f5b_row11_col10, #T_15f5b_row12_col9, #T_15f5b_row12_col14, #T_15f5b_row14_col8 {\n",
       "  background-color: #a50026;\n",
       "  color: #f1f1f1;\n",
       "}\n",
       "#T_15f5b_row1_col4 {\n",
       "  background-color: #fdb567;\n",
       "  color: #000000;\n",
       "}\n",
       "#T_15f5b_row1_col5, #T_15f5b_row1_col7, #T_15f5b_row8_col0 {\n",
       "  background-color: #f16640;\n",
       "  color: #f1f1f1;\n",
       "}\n",
       "#T_15f5b_row1_col6, #T_15f5b_row6_col0, #T_15f5b_row7_col12 {\n",
       "  background-color: #fed07e;\n",
       "  color: #000000;\n",
       "}\n",
       "#T_15f5b_row1_col9, #T_15f5b_row11_col7 {\n",
       "  background-color: #b71126;\n",
       "  color: #f1f1f1;\n",
       "}\n",
       "#T_15f5b_row1_col10, #T_15f5b_row3_col10 {\n",
       "  background-color: #f4fab0;\n",
       "  color: #000000;\n",
       "}\n",
       "#T_15f5b_row1_col11, #T_15f5b_row3_col11 {\n",
       "  background-color: #fff6b0;\n",
       "  color: #000000;\n",
       "}\n",
       "#T_15f5b_row1_col12 {\n",
       "  background-color: #feefa3;\n",
       "  color: #000000;\n",
       "}\n",
       "#T_15f5b_row1_col13, #T_15f5b_row3_col13, #T_15f5b_row4_col13, #T_15f5b_row5_col9, #T_15f5b_row6_col13, #T_15f5b_row14_col13 {\n",
       "  background-color: #a70226;\n",
       "  color: #f1f1f1;\n",
       "}\n",
       "#T_15f5b_row1_col14 {\n",
       "  background-color: #fca85e;\n",
       "  color: #000000;\n",
       "}\n",
       "#T_15f5b_row2_col0 {\n",
       "  background-color: #2da155;\n",
       "  color: #f1f1f1;\n",
       "}\n",
       "#T_15f5b_row2_col1 {\n",
       "  background-color: #ecf7a6;\n",
       "  color: #000000;\n",
       "}\n",
       "#T_15f5b_row2_col3, #T_15f5b_row4_col7, #T_15f5b_row10_col9, #T_15f5b_row12_col10 {\n",
       "  background-color: #be1827;\n",
       "  color: #f1f1f1;\n",
       "}\n",
       "#T_15f5b_row2_col4 {\n",
       "  background-color: #fdc171;\n",
       "  color: #000000;\n",
       "}\n",
       "#T_15f5b_row2_col5 {\n",
       "  background-color: #da362a;\n",
       "  color: #f1f1f1;\n",
       "}\n",
       "#T_15f5b_row2_col6 {\n",
       "  background-color: #fede89;\n",
       "  color: #000000;\n",
       "}\n",
       "#T_15f5b_row2_col7, #T_15f5b_row7_col3, #T_15f5b_row9_col7, #T_15f5b_row14_col0 {\n",
       "  background-color: #e54e35;\n",
       "  color: #f1f1f1;\n",
       "}\n",
       "#T_15f5b_row2_col9, #T_15f5b_row11_col14 {\n",
       "  background-color: #b10b26;\n",
       "  color: #f1f1f1;\n",
       "}\n",
       "#T_15f5b_row2_col10, #T_15f5b_row4_col11 {\n",
       "  background-color: #fdfebc;\n",
       "  color: #000000;\n",
       "}\n",
       "#T_15f5b_row2_col11, #T_15f5b_row4_col10, #T_15f5b_row6_col12 {\n",
       "  background-color: #fffdbc;\n",
       "  color: #000000;\n",
       "}\n",
       "#T_15f5b_row2_col12, #T_15f5b_row13_col12 {\n",
       "  background-color: #fff7b2;\n",
       "  color: #000000;\n",
       "}\n",
       "#T_15f5b_row2_col14, #T_15f5b_row3_col6, #T_15f5b_row8_col4 {\n",
       "  background-color: #f88c51;\n",
       "  color: #f1f1f1;\n",
       "}\n",
       "#T_15f5b_row3_col0 {\n",
       "  background-color: #e44c34;\n",
       "  color: #f1f1f1;\n",
       "}\n",
       "#T_15f5b_row3_col2, #T_15f5b_row14_col4 {\n",
       "  background-color: #d93429;\n",
       "  color: #f1f1f1;\n",
       "}\n",
       "#T_15f5b_row3_col4, #T_15f5b_row4_col1, #T_15f5b_row10_col1, #T_15f5b_row10_col3, #T_15f5b_row12_col2, #T_15f5b_row13_col2 {\n",
       "  background-color: #f47044;\n",
       "  color: #f1f1f1;\n",
       "}\n",
       "#T_15f5b_row3_col5 {\n",
       "  background-color: #fed683;\n",
       "  color: #000000;\n",
       "}\n",
       "#T_15f5b_row3_col7, #T_15f5b_row7_col4, #T_15f5b_row8_col2, #T_15f5b_row9_col1 {\n",
       "  background-color: #ea5739;\n",
       "  color: #f1f1f1;\n",
       "}\n",
       "#T_15f5b_row3_col8 {\n",
       "  background-color: #fdad60;\n",
       "  color: #000000;\n",
       "}\n",
       "#T_15f5b_row3_col9 {\n",
       "  background-color: #bd1726;\n",
       "  color: #f1f1f1;\n",
       "}\n",
       "#T_15f5b_row3_col12 {\n",
       "  background-color: #fff0a6;\n",
       "  color: #000000;\n",
       "}\n",
       "#T_15f5b_row3_col14, #T_15f5b_row12_col4, #T_15f5b_row13_col6, #T_15f5b_row14_col11 {\n",
       "  background-color: #fcaa5f;\n",
       "  color: #000000;\n",
       "}\n",
       "#T_15f5b_row4_col0, #T_15f5b_row8_col7, #T_15f5b_row9_col6, #T_15f5b_row10_col7, #T_15f5b_row13_col14 {\n",
       "  background-color: #fdb163;\n",
       "  color: #000000;\n",
       "}\n",
       "#T_15f5b_row4_col2, #T_15f5b_row10_col6 {\n",
       "  background-color: #fb9d59;\n",
       "  color: #000000;\n",
       "}\n",
       "#T_15f5b_row4_col3 {\n",
       "  background-color: #cc2627;\n",
       "  color: #f1f1f1;\n",
       "}\n",
       "#T_15f5b_row4_col5, #T_15f5b_row5_col1, #T_15f5b_row8_col9, #T_15f5b_row14_col9 {\n",
       "  background-color: #b30d26;\n",
       "  color: #f1f1f1;\n",
       "}\n",
       "#T_15f5b_row4_col6, #T_15f5b_row8_col10 {\n",
       "  background-color: #feda86;\n",
       "  color: #000000;\n",
       "}\n",
       "#T_15f5b_row4_col8, #T_15f5b_row13_col0 {\n",
       "  background-color: #f7814c;\n",
       "  color: #f1f1f1;\n",
       "}\n",
       "#T_15f5b_row4_col12, #T_15f5b_row6_col10, #T_15f5b_row9_col11 {\n",
       "  background-color: #fffbb8;\n",
       "  color: #000000;\n",
       "}\n",
       "#T_15f5b_row4_col14, #T_15f5b_row6_col8, #T_15f5b_row13_col3 {\n",
       "  background-color: #e65036;\n",
       "  color: #f1f1f1;\n",
       "}\n",
       "#T_15f5b_row5_col3 {\n",
       "  background-color: #f99355;\n",
       "  color: #000000;\n",
       "}\n",
       "#T_15f5b_row5_col7 {\n",
       "  background-color: #fdbf6f;\n",
       "  color: #000000;\n",
       "}\n",
       "#T_15f5b_row5_col8 {\n",
       "  background-color: #fec877;\n",
       "  color: #000000;\n",
       "}\n",
       "#T_15f5b_row5_col10 {\n",
       "  background-color: #f1f9ac;\n",
       "  color: #000000;\n",
       "}\n",
       "#T_15f5b_row5_col11 {\n",
       "  background-color: #fff3ac;\n",
       "  color: #000000;\n",
       "}\n",
       "#T_15f5b_row5_col12, #T_15f5b_row12_col8 {\n",
       "  background-color: #fee593;\n",
       "  color: #000000;\n",
       "}\n",
       "#T_15f5b_row6_col1, #T_15f5b_row9_col0, #T_15f5b_row12_col0 {\n",
       "  background-color: #f88950;\n",
       "  color: #f1f1f1;\n",
       "}\n",
       "#T_15f5b_row6_col2 {\n",
       "  background-color: #fdb768;\n",
       "  color: #000000;\n",
       "}\n",
       "#T_15f5b_row6_col3 {\n",
       "  background-color: #d62f27;\n",
       "  color: #f1f1f1;\n",
       "}\n",
       "#T_15f5b_row6_col4, #T_15f5b_row14_col7 {\n",
       "  background-color: #fed27f;\n",
       "  color: #000000;\n",
       "}\n",
       "#T_15f5b_row6_col11, #T_15f5b_row9_col10 {\n",
       "  background-color: #fafdb8;\n",
       "  color: #000000;\n",
       "}\n",
       "#T_15f5b_row6_col14, #T_15f5b_row8_col1, #T_15f5b_row14_col2 {\n",
       "  background-color: #e14430;\n",
       "  color: #f1f1f1;\n",
       "}\n",
       "#T_15f5b_row7_col0, #T_15f5b_row11_col2 {\n",
       "  background-color: #f36b42;\n",
       "  color: #f1f1f1;\n",
       "}\n",
       "#T_15f5b_row7_col1 {\n",
       "  background-color: #ec5c3b;\n",
       "  color: #f1f1f1;\n",
       "}\n",
       "#T_15f5b_row7_col2 {\n",
       "  background-color: #ee613e;\n",
       "  color: #f1f1f1;\n",
       "}\n",
       "#T_15f5b_row7_col5 {\n",
       "  background-color: #feea9b;\n",
       "  color: #000000;\n",
       "}\n",
       "#T_15f5b_row7_col6 {\n",
       "  background-color: #e34933;\n",
       "  color: #f1f1f1;\n",
       "}\n",
       "#T_15f5b_row7_col8 {\n",
       "  background-color: #fed481;\n",
       "  color: #000000;\n",
       "}\n",
       "#T_15f5b_row7_col10 {\n",
       "  background-color: #e0f295;\n",
       "  color: #000000;\n",
       "}\n",
       "#T_15f5b_row7_col14 {\n",
       "  background-color: #fff8b4;\n",
       "  color: #000000;\n",
       "}\n",
       "#T_15f5b_row8_col3, #T_15f5b_row9_col2 {\n",
       "  background-color: #f46d43;\n",
       "  color: #f1f1f1;\n",
       "}\n",
       "#T_15f5b_row8_col5 {\n",
       "  background-color: #fed884;\n",
       "  color: #000000;\n",
       "}\n",
       "#T_15f5b_row8_col6 {\n",
       "  background-color: #f26841;\n",
       "  color: #f1f1f1;\n",
       "}\n",
       "#T_15f5b_row8_col11 {\n",
       "  background-color: #d3ec87;\n",
       "  color: #000000;\n",
       "}\n",
       "#T_15f5b_row8_col12 {\n",
       "  background-color: #dff293;\n",
       "  color: #000000;\n",
       "}\n",
       "#T_15f5b_row8_col14 {\n",
       "  background-color: #c82227;\n",
       "  color: #f1f1f1;\n",
       "}\n",
       "#T_15f5b_row9_col3 {\n",
       "  background-color: #ed5f3c;\n",
       "  color: #f1f1f1;\n",
       "}\n",
       "#T_15f5b_row9_col4 {\n",
       "  background-color: #fba35c;\n",
       "  color: #000000;\n",
       "}\n",
       "#T_15f5b_row9_col5, #T_15f5b_row11_col4 {\n",
       "  background-color: #fba05b;\n",
       "  color: #000000;\n",
       "}\n",
       "#T_15f5b_row9_col8 {\n",
       "  background-color: #f99153;\n",
       "  color: #000000;\n",
       "}\n",
       "#T_15f5b_row9_col12 {\n",
       "  background-color: #fff2aa;\n",
       "  color: #000000;\n",
       "}\n",
       "#T_15f5b_row9_col14, #T_15f5b_row11_col6 {\n",
       "  background-color: #fdb365;\n",
       "  color: #000000;\n",
       "}\n",
       "#T_15f5b_row10_col0 {\n",
       "  background-color: #f67c4a;\n",
       "  color: #f1f1f1;\n",
       "}\n",
       "#T_15f5b_row10_col2 {\n",
       "  background-color: #f57245;\n",
       "  color: #f1f1f1;\n",
       "}\n",
       "#T_15f5b_row10_col4 {\n",
       "  background-color: #fa9656;\n",
       "  color: #000000;\n",
       "}\n",
       "#T_15f5b_row10_col8 {\n",
       "  background-color: #d02927;\n",
       "  color: #f1f1f1;\n",
       "}\n",
       "#T_15f5b_row10_col14 {\n",
       "  background-color: #dcf08f;\n",
       "  color: #000000;\n",
       "}\n",
       "#T_15f5b_row11_col0, #T_15f5b_row14_col12 {\n",
       "  background-color: #f7844e;\n",
       "  color: #f1f1f1;\n",
       "}\n",
       "#T_15f5b_row11_col1, #T_15f5b_row11_col3 {\n",
       "  background-color: #d83128;\n",
       "  color: #f1f1f1;\n",
       "}\n",
       "#T_15f5b_row11_col12 {\n",
       "  background-color: #0e8245;\n",
       "  color: #f1f1f1;\n",
       "}\n",
       "#T_15f5b_row12_col1, #T_15f5b_row14_col6 {\n",
       "  background-color: #db382b;\n",
       "  color: #f1f1f1;\n",
       "}\n",
       "#T_15f5b_row12_col3 {\n",
       "  background-color: #dd3d2d;\n",
       "  color: #f1f1f1;\n",
       "}\n",
       "#T_15f5b_row12_col6 {\n",
       "  background-color: #fdb96a;\n",
       "  color: #000000;\n",
       "}\n",
       "#T_15f5b_row12_col11 {\n",
       "  background-color: #0d8044;\n",
       "  color: #f1f1f1;\n",
       "}\n",
       "#T_15f5b_row13_col1 {\n",
       "  background-color: #e75337;\n",
       "  color: #f1f1f1;\n",
       "}\n",
       "#T_15f5b_row13_col4 {\n",
       "  background-color: #fa9b58;\n",
       "  color: #000000;\n",
       "}\n",
       "#T_15f5b_row13_col5 {\n",
       "  background-color: #fca55d;\n",
       "  color: #000000;\n",
       "}\n",
       "#T_15f5b_row13_col7 {\n",
       "  background-color: #eb5a3a;\n",
       "  color: #f1f1f1;\n",
       "}\n",
       "#T_15f5b_row13_col8 {\n",
       "  background-color: #f98e52;\n",
       "  color: #f1f1f1;\n",
       "}\n",
       "#T_15f5b_row13_col9 {\n",
       "  background-color: #af0926;\n",
       "  color: #f1f1f1;\n",
       "}\n",
       "#T_15f5b_row14_col1 {\n",
       "  background-color: #e0422f;\n",
       "  color: #f1f1f1;\n",
       "}\n",
       "#T_15f5b_row14_col5 {\n",
       "  background-color: #daf08d;\n",
       "  color: #000000;\n",
       "}\n",
       "#T_15f5b_row14_col10 {\n",
       "  background-color: #a2d76a;\n",
       "  color: #000000;\n",
       "}\n",
       "</style>\n",
       "<table id=\"T_15f5b\">\n",
       "  <thead>\n",
       "    <tr>\n",
       "      <th class=\"blank level0\" >&nbsp;</th>\n",
       "      <th id=\"T_15f5b_level0_col0\" class=\"col_heading level0 col0\" >brand_n</th>\n",
       "      <th id=\"T_15f5b_level0_col1\" class=\"col_heading level0 col1\" >model_n</th>\n",
       "      <th id=\"T_15f5b_level0_col2\" class=\"col_heading level0 col2\" >name_n</th>\n",
       "      <th id=\"T_15f5b_level0_col3\" class=\"col_heading level0 col3\" >vehicleType_n</th>\n",
       "      <th id=\"T_15f5b_level0_col4\" class=\"col_heading level0 col4\" >gearbox_n</th>\n",
       "      <th id=\"T_15f5b_level0_col5\" class=\"col_heading level0 col5\" >powerPS</th>\n",
       "      <th id=\"T_15f5b_level0_col6\" class=\"col_heading level0 col6\" >powerPScategory_n</th>\n",
       "      <th id=\"T_15f5b_level0_col7\" class=\"col_heading level0 col7\" >fuelType_n</th>\n",
       "      <th id=\"T_15f5b_level0_col8\" class=\"col_heading level0 col8\" >kilometer</th>\n",
       "      <th id=\"T_15f5b_level0_col9\" class=\"col_heading level0 col9\" >notRepairedDamage_n</th>\n",
       "      <th id=\"T_15f5b_level0_col10\" class=\"col_heading level0 col10\" >yearOfRegistration</th>\n",
       "      <th id=\"T_15f5b_level0_col11\" class=\"col_heading level0 col11\" >age</th>\n",
       "      <th id=\"T_15f5b_level0_col12\" class=\"col_heading level0 col12\" >ageCategory_n</th>\n",
       "      <th id=\"T_15f5b_level0_col13\" class=\"col_heading level0 col13\" >abtest_n</th>\n",
       "      <th id=\"T_15f5b_level0_col14\" class=\"col_heading level0 col14\" >price</th>\n",
       "    </tr>\n",
       "  </thead>\n",
       "  <tbody>\n",
       "    <tr>\n",
       "      <th id=\"T_15f5b_level0_row0\" class=\"row_heading level0 row0\" >brand_n</th>\n",
       "      <td id=\"T_15f5b_row0_col0\" class=\"data row0 col0\" >1.000000</td>\n",
       "      <td id=\"T_15f5b_row0_col1\" class=\"data row0 col1\" >0.487768</td>\n",
       "      <td id=\"T_15f5b_row0_col2\" class=\"data row0 col2\" >0.833210</td>\n",
       "      <td id=\"T_15f5b_row0_col3\" class=\"data row0 col3\" >-0.108302</td>\n",
       "      <td id=\"T_15f5b_row0_col4\" class=\"data row0 col4\" >0.103269</td>\n",
       "      <td id=\"T_15f5b_row0_col5\" class=\"data row0 col5\" >-0.296885</td>\n",
       "      <td id=\"T_15f5b_row0_col6\" class=\"data row0 col6\" >0.182333</td>\n",
       "      <td id=\"T_15f5b_row0_col7\" class=\"data row0 col7\" >-0.042768</td>\n",
       "      <td id=\"T_15f5b_row0_col8\" class=\"data row0 col8\" >-0.050089</td>\n",
       "      <td id=\"T_15f5b_row0_col9\" class=\"data row0 col9\" >0.019511</td>\n",
       "      <td id=\"T_15f5b_row0_col10\" class=\"data row0 col10\" >-0.007531</td>\n",
       "      <td id=\"T_15f5b_row0_col11\" class=\"data row0 col11\" >0.007531</td>\n",
       "      <td id=\"T_15f5b_row0_col12\" class=\"data row0 col12\" >0.018168</td>\n",
       "      <td id=\"T_15f5b_row0_col13\" class=\"data row0 col13\" >0.004206</td>\n",
       "      <td id=\"T_15f5b_row0_col14\" class=\"data row0 col14\" >-0.099736</td>\n",
       "    </tr>\n",
       "    <tr>\n",
       "      <th id=\"T_15f5b_level0_row1\" class=\"row_heading level0 row1\" >model_n</th>\n",
       "      <td id=\"T_15f5b_row1_col0\" class=\"data row1 col0\" >0.487768</td>\n",
       "      <td id=\"T_15f5b_row1_col1\" class=\"data row1 col1\" >1.000000</td>\n",
       "      <td id=\"T_15f5b_row1_col2\" class=\"data row1 col2\" >0.466469</td>\n",
       "      <td id=\"T_15f5b_row1_col3\" class=\"data row1 col3\" >-0.182398</td>\n",
       "      <td id=\"T_15f5b_row1_col4\" class=\"data row1 col4\" >0.059399</td>\n",
       "      <td id=\"T_15f5b_row1_col5\" class=\"data row1 col5\" >-0.145679</td>\n",
       "      <td id=\"T_15f5b_row1_col6\" class=\"data row1 col6\" >0.106992</td>\n",
       "      <td id=\"T_15f5b_row1_col7\" class=\"data row1 col7\" >0.020995</td>\n",
       "      <td id=\"T_15f5b_row1_col8\" class=\"data row1 col8\" >-0.021508</td>\n",
       "      <td id=\"T_15f5b_row1_col9\" class=\"data row1 col9\" >0.011767</td>\n",
       "      <td id=\"T_15f5b_row1_col10\" class=\"data row1 col10\" >0.058400</td>\n",
       "      <td id=\"T_15f5b_row1_col11\" class=\"data row1 col11\" >-0.058400</td>\n",
       "      <td id=\"T_15f5b_row1_col12\" class=\"data row1 col12\" >-0.047887</td>\n",
       "      <td id=\"T_15f5b_row1_col13\" class=\"data row1 col13\" >0.002355</td>\n",
       "      <td id=\"T_15f5b_row1_col14\" class=\"data row1 col14\" >-0.027460</td>\n",
       "    </tr>\n",
       "    <tr>\n",
       "      <th id=\"T_15f5b_level0_row2\" class=\"row_heading level0 row2\" >name_n</th>\n",
       "      <td id=\"T_15f5b_row2_col0\" class=\"data row2 col0\" >0.833210</td>\n",
       "      <td id=\"T_15f5b_row2_col1\" class=\"data row2 col1\" >0.466469</td>\n",
       "      <td id=\"T_15f5b_row2_col2\" class=\"data row2 col2\" >1.000000</td>\n",
       "      <td id=\"T_15f5b_row2_col3\" class=\"data row2 col3\" >-0.121786</td>\n",
       "      <td id=\"T_15f5b_row2_col4\" class=\"data row2 col4\" >0.092527</td>\n",
       "      <td id=\"T_15f5b_row2_col5\" class=\"data row2 col5\" >-0.255575</td>\n",
       "      <td id=\"T_15f5b_row2_col6\" class=\"data row2 col6\" >0.146168</td>\n",
       "      <td id=\"T_15f5b_row2_col7\" class=\"data row2 col7\" >-0.028684</td>\n",
       "      <td id=\"T_15f5b_row2_col8\" class=\"data row2 col8\" >-0.048778</td>\n",
       "      <td id=\"T_15f5b_row2_col9\" class=\"data row2 col9\" >-0.001263</td>\n",
       "      <td id=\"T_15f5b_row2_col10\" class=\"data row2 col10\" >0.008396</td>\n",
       "      <td id=\"T_15f5b_row2_col11\" class=\"data row2 col11\" >-0.008396</td>\n",
       "      <td id=\"T_15f5b_row2_col12\" class=\"data row2 col12\" >0.003293</td>\n",
       "      <td id=\"T_15f5b_row2_col13\" class=\"data row2 col13\" >0.003908</td>\n",
       "      <td id=\"T_15f5b_row2_col14\" class=\"data row2 col14\" >-0.086751</td>\n",
       "    </tr>\n",
       "    <tr>\n",
       "      <th id=\"T_15f5b_level0_row3\" class=\"row_heading level0 row3\" >vehicleType_n</th>\n",
       "      <td id=\"T_15f5b_row3_col0\" class=\"data row3 col0\" >-0.108302</td>\n",
       "      <td id=\"T_15f5b_row3_col1\" class=\"data row3 col1\" >-0.182398</td>\n",
       "      <td id=\"T_15f5b_row3_col2\" class=\"data row3 col2\" >-0.121786</td>\n",
       "      <td id=\"T_15f5b_row3_col3\" class=\"data row3 col3\" >1.000000</td>\n",
       "      <td id=\"T_15f5b_row3_col4\" class=\"data row3 col4\" >-0.088876</td>\n",
       "      <td id=\"T_15f5b_row3_col5\" class=\"data row3 col5\" >0.126130</td>\n",
       "      <td id=\"T_15f5b_row3_col6\" class=\"data row3 col6\" >-0.064953</td>\n",
       "      <td id=\"T_15f5b_row3_col7\" class=\"data row3 col7\" >-0.006522</td>\n",
       "      <td id=\"T_15f5b_row3_col8\" class=\"data row3 col8\" >0.057442</td>\n",
       "      <td id=\"T_15f5b_row3_col9\" class=\"data row3 col9\" >0.025547</td>\n",
       "      <td id=\"T_15f5b_row3_col10\" class=\"data row3 col10\" >0.059304</td>\n",
       "      <td id=\"T_15f5b_row3_col11\" class=\"data row3 col11\" >-0.059304</td>\n",
       "      <td id=\"T_15f5b_row3_col12\" class=\"data row3 col12\" >-0.038325</td>\n",
       "      <td id=\"T_15f5b_row3_col13\" class=\"data row3 col13\" >0.001228</td>\n",
       "      <td id=\"T_15f5b_row3_col14\" class=\"data row3 col14\" >-0.020692</td>\n",
       "    </tr>\n",
       "    <tr>\n",
       "      <th id=\"T_15f5b_level0_row4\" class=\"row_heading level0 row4\" >gearbox_n</th>\n",
       "      <td id=\"T_15f5b_row4_col0\" class=\"data row4 col0\" >0.103269</td>\n",
       "      <td id=\"T_15f5b_row4_col1\" class=\"data row4 col1\" >0.059399</td>\n",
       "      <td id=\"T_15f5b_row4_col2\" class=\"data row4 col2\" >0.092527</td>\n",
       "      <td id=\"T_15f5b_row4_col3\" class=\"data row4 col3\" >-0.088876</td>\n",
       "      <td id=\"T_15f5b_row4_col4\" class=\"data row4 col4\" >1.000000</td>\n",
       "      <td id=\"T_15f5b_row4_col5\" class=\"data row4 col5\" >-0.372149</td>\n",
       "      <td id=\"T_15f5b_row4_col6\" class=\"data row4 col6\" >0.138339</td>\n",
       "      <td id=\"T_15f5b_row4_col7\" class=\"data row4 col7\" >-0.143079</td>\n",
       "      <td id=\"T_15f5b_row4_col8\" class=\"data row4 col8\" >-0.031774</td>\n",
       "      <td id=\"T_15f5b_row4_col9\" class=\"data row4 col9\" >0.018544</td>\n",
       "      <td id=\"T_15f5b_row4_col10\" class=\"data row4 col10\" >-0.010339</td>\n",
       "      <td id=\"T_15f5b_row4_col11\" class=\"data row4 col11\" >0.010339</td>\n",
       "      <td id=\"T_15f5b_row4_col12\" class=\"data row4 col12\" >0.030702</td>\n",
       "      <td id=\"T_15f5b_row4_col13\" class=\"data row4 col13\" >0.000454</td>\n",
       "      <td id=\"T_15f5b_row4_col14\" class=\"data row4 col14\" >-0.223189</td>\n",
       "    </tr>\n",
       "    <tr>\n",
       "      <th id=\"T_15f5b_level0_row5\" class=\"row_heading level0 row5\" >powerPS</th>\n",
       "      <td id=\"T_15f5b_row5_col0\" class=\"data row5 col0\" >-0.296885</td>\n",
       "      <td id=\"T_15f5b_row5_col1\" class=\"data row5 col1\" >-0.145679</td>\n",
       "      <td id=\"T_15f5b_row5_col2\" class=\"data row5 col2\" >-0.255575</td>\n",
       "      <td id=\"T_15f5b_row5_col3\" class=\"data row5 col3\" >0.126130</td>\n",
       "      <td id=\"T_15f5b_row5_col4\" class=\"data row5 col4\" >-0.372149</td>\n",
       "      <td id=\"T_15f5b_row5_col5\" class=\"data row5 col5\" >1.000000</td>\n",
       "      <td id=\"T_15f5b_row5_col6\" class=\"data row5 col6\" >-0.412807</td>\n",
       "      <td id=\"T_15f5b_row5_col7\" class=\"data row5 col7\" >0.194397</td>\n",
       "      <td id=\"T_15f5b_row5_col8\" class=\"data row5 col8\" >0.131299</td>\n",
       "      <td id=\"T_15f5b_row5_col9\" class=\"data row5 col9\" >-0.020279</td>\n",
       "      <td id=\"T_15f5b_row5_col10\" class=\"data row5 col10\" >0.075761</td>\n",
       "      <td id=\"T_15f5b_row5_col11\" class=\"data row5 col11\" >-0.075761</td>\n",
       "      <td id=\"T_15f5b_row5_col12\" class=\"data row5 col12\" >-0.104595</td>\n",
       "      <td id=\"T_15f5b_row5_col13\" class=\"data row5 col13\" >-0.005444</td>\n",
       "      <td id=\"T_15f5b_row5_col14\" class=\"data row5 col14\" >0.428582</td>\n",
       "    </tr>\n",
       "    <tr>\n",
       "      <th id=\"T_15f5b_level0_row6\" class=\"row_heading level0 row6\" >powerPScategory_n</th>\n",
       "      <td id=\"T_15f5b_row6_col0\" class=\"data row6 col0\" >0.182333</td>\n",
       "      <td id=\"T_15f5b_row6_col1\" class=\"data row6 col1\" >0.106992</td>\n",
       "      <td id=\"T_15f5b_row6_col2\" class=\"data row6 col2\" >0.146168</td>\n",
       "      <td id=\"T_15f5b_row6_col3\" class=\"data row6 col3\" >-0.064953</td>\n",
       "      <td id=\"T_15f5b_row6_col4\" class=\"data row6 col4\" >0.138339</td>\n",
       "      <td id=\"T_15f5b_row6_col5\" class=\"data row6 col5\" >-0.412807</td>\n",
       "      <td id=\"T_15f5b_row6_col6\" class=\"data row6 col6\" >1.000000</td>\n",
       "      <td id=\"T_15f5b_row6_col7\" class=\"data row6 col7\" >-0.209042</td>\n",
       "      <td id=\"T_15f5b_row6_col8\" class=\"data row6 col8\" >-0.137414</td>\n",
       "      <td id=\"T_15f5b_row6_col9\" class=\"data row6 col9\" >0.020979</td>\n",
       "      <td id=\"T_15f5b_row6_col10\" class=\"data row6 col10\" >-0.024048</td>\n",
       "      <td id=\"T_15f5b_row6_col11\" class=\"data row6 col11\" >0.024048</td>\n",
       "      <td id=\"T_15f5b_row6_col12\" class=\"data row6 col12\" >0.041540</td>\n",
       "      <td id=\"T_15f5b_row6_col13\" class=\"data row6 col13\" >0.002150</td>\n",
       "      <td id=\"T_15f5b_row6_col14\" class=\"data row6 col14\" >-0.248703</td>\n",
       "    </tr>\n",
       "    <tr>\n",
       "      <th id=\"T_15f5b_level0_row7\" class=\"row_heading level0 row7\" >fuelType_n</th>\n",
       "      <td id=\"T_15f5b_row7_col0\" class=\"data row7 col0\" >-0.042768</td>\n",
       "      <td id=\"T_15f5b_row7_col1\" class=\"data row7 col1\" >0.020995</td>\n",
       "      <td id=\"T_15f5b_row7_col2\" class=\"data row7 col2\" >-0.028684</td>\n",
       "      <td id=\"T_15f5b_row7_col3\" class=\"data row7 col3\" >-0.006522</td>\n",
       "      <td id=\"T_15f5b_row7_col4\" class=\"data row7 col4\" >-0.143079</td>\n",
       "      <td id=\"T_15f5b_row7_col5\" class=\"data row7 col5\" >0.194397</td>\n",
       "      <td id=\"T_15f5b_row7_col6\" class=\"data row7 col6\" >-0.209042</td>\n",
       "      <td id=\"T_15f5b_row7_col7\" class=\"data row7 col7\" >1.000000</td>\n",
       "      <td id=\"T_15f5b_row7_col8\" class=\"data row7 col8\" >0.163210</td>\n",
       "      <td id=\"T_15f5b_row7_col9\" class=\"data row7 col9\" >-0.025770</td>\n",
       "      <td id=\"T_15f5b_row7_col10\" class=\"data row7 col10\" >0.163960</td>\n",
       "      <td id=\"T_15f5b_row7_col11\" class=\"data row7 col11\" >-0.163960</td>\n",
       "      <td id=\"T_15f5b_row7_col12\" class=\"data row7 col12\" >-0.196073</td>\n",
       "      <td id=\"T_15f5b_row7_col13\" class=\"data row7 col13\" >-0.002587</td>\n",
       "      <td id=\"T_15f5b_row7_col14\" class=\"data row7 col14\" >0.243945</td>\n",
       "    </tr>\n",
       "    <tr>\n",
       "      <th id=\"T_15f5b_level0_row8\" class=\"row_heading level0 row8\" >kilometer</th>\n",
       "      <td id=\"T_15f5b_row8_col0\" class=\"data row8 col0\" >-0.050089</td>\n",
       "      <td id=\"T_15f5b_row8_col1\" class=\"data row8 col1\" >-0.021508</td>\n",
       "      <td id=\"T_15f5b_row8_col2\" class=\"data row8 col2\" >-0.048778</td>\n",
       "      <td id=\"T_15f5b_row8_col3\" class=\"data row8 col3\" >0.057442</td>\n",
       "      <td id=\"T_15f5b_row8_col4\" class=\"data row8 col4\" >-0.031774</td>\n",
       "      <td id=\"T_15f5b_row8_col5\" class=\"data row8 col5\" >0.131299</td>\n",
       "      <td id=\"T_15f5b_row8_col6\" class=\"data row8 col6\" >-0.137414</td>\n",
       "      <td id=\"T_15f5b_row8_col7\" class=\"data row8 col7\" >0.163210</td>\n",
       "      <td id=\"T_15f5b_row8_col8\" class=\"data row8 col8\" >1.000000</td>\n",
       "      <td id=\"T_15f5b_row8_col9\" class=\"data row8 col9\" >0.002281</td>\n",
       "      <td id=\"T_15f5b_row8_col10\" class=\"data row8 col10\" >-0.223516</td>\n",
       "      <td id=\"T_15f5b_row8_col11\" class=\"data row8 col11\" >0.223516</td>\n",
       "      <td id=\"T_15f5b_row8_col12\" class=\"data row8 col12\" >0.214135</td>\n",
       "      <td id=\"T_15f5b_row8_col13\" class=\"data row8 col13\" >-0.004239</td>\n",
       "      <td id=\"T_15f5b_row8_col14\" class=\"data row8 col14\" >-0.342168</td>\n",
       "    </tr>\n",
       "    <tr>\n",
       "      <th id=\"T_15f5b_level0_row9\" class=\"row_heading level0 row9\" >notRepairedDamage_n</th>\n",
       "      <td id=\"T_15f5b_row9_col0\" class=\"data row9 col0\" >0.019511</td>\n",
       "      <td id=\"T_15f5b_row9_col1\" class=\"data row9 col1\" >0.011767</td>\n",
       "      <td id=\"T_15f5b_row9_col2\" class=\"data row9 col2\" >-0.001263</td>\n",
       "      <td id=\"T_15f5b_row9_col3\" class=\"data row9 col3\" >0.025547</td>\n",
       "      <td id=\"T_15f5b_row9_col4\" class=\"data row9 col4\" >0.018544</td>\n",
       "      <td id=\"T_15f5b_row9_col5\" class=\"data row9 col5\" >-0.020279</td>\n",
       "      <td id=\"T_15f5b_row9_col6\" class=\"data row9 col6\" >0.020979</td>\n",
       "      <td id=\"T_15f5b_row9_col7\" class=\"data row9 col7\" >-0.025770</td>\n",
       "      <td id=\"T_15f5b_row9_col8\" class=\"data row9 col8\" >0.002281</td>\n",
       "      <td id=\"T_15f5b_row9_col9\" class=\"data row9 col9\" >1.000000</td>\n",
       "      <td id=\"T_15f5b_row9_col10\" class=\"data row9 col10\" >0.026303</td>\n",
       "      <td id=\"T_15f5b_row9_col11\" class=\"data row9 col11\" >-0.026303</td>\n",
       "      <td id=\"T_15f5b_row9_col12\" class=\"data row9 col12\" >-0.022429</td>\n",
       "      <td id=\"T_15f5b_row9_col13\" class=\"data row9 col13\" >-0.003132</td>\n",
       "      <td id=\"T_15f5b_row9_col14\" class=\"data row9 col14\" >0.005670</td>\n",
       "    </tr>\n",
       "    <tr>\n",
       "      <th id=\"T_15f5b_level0_row10\" class=\"row_heading level0 row10\" >yearOfRegistration</th>\n",
       "      <td id=\"T_15f5b_row10_col0\" class=\"data row10 col0\" >-0.007531</td>\n",
       "      <td id=\"T_15f5b_row10_col1\" class=\"data row10 col1\" >0.058400</td>\n",
       "      <td id=\"T_15f5b_row10_col2\" class=\"data row10 col2\" >0.008396</td>\n",
       "      <td id=\"T_15f5b_row10_col3\" class=\"data row10 col3\" >0.059304</td>\n",
       "      <td id=\"T_15f5b_row10_col4\" class=\"data row10 col4\" >-0.010339</td>\n",
       "      <td id=\"T_15f5b_row10_col5\" class=\"data row10 col5\" >0.075761</td>\n",
       "      <td id=\"T_15f5b_row10_col6\" class=\"data row10 col6\" >-0.024048</td>\n",
       "      <td id=\"T_15f5b_row10_col7\" class=\"data row10 col7\" >0.163960</td>\n",
       "      <td id=\"T_15f5b_row10_col8\" class=\"data row10 col8\" >-0.223516</td>\n",
       "      <td id=\"T_15f5b_row10_col9\" class=\"data row10 col9\" >0.026303</td>\n",
       "      <td id=\"T_15f5b_row10_col10\" class=\"data row10 col10\" >1.000000</td>\n",
       "      <td id=\"T_15f5b_row10_col11\" class=\"data row10 col11\" >-1.000000</td>\n",
       "      <td id=\"T_15f5b_row10_col12\" class=\"data row10 col12\" >-0.893898</td>\n",
       "      <td id=\"T_15f5b_row10_col13\" class=\"data row10 col13\" >-0.003778</td>\n",
       "      <td id=\"T_15f5b_row10_col14\" class=\"data row10 col14\" >0.412234</td>\n",
       "    </tr>\n",
       "    <tr>\n",
       "      <th id=\"T_15f5b_level0_row11\" class=\"row_heading level0 row11\" >age</th>\n",
       "      <td id=\"T_15f5b_row11_col0\" class=\"data row11 col0\" >0.007531</td>\n",
       "      <td id=\"T_15f5b_row11_col1\" class=\"data row11 col1\" >-0.058400</td>\n",
       "      <td id=\"T_15f5b_row11_col2\" class=\"data row11 col2\" >-0.008396</td>\n",
       "      <td id=\"T_15f5b_row11_col3\" class=\"data row11 col3\" >-0.059304</td>\n",
       "      <td id=\"T_15f5b_row11_col4\" class=\"data row11 col4\" >0.010339</td>\n",
       "      <td id=\"T_15f5b_row11_col5\" class=\"data row11 col5\" >-0.075761</td>\n",
       "      <td id=\"T_15f5b_row11_col6\" class=\"data row11 col6\" >0.024048</td>\n",
       "      <td id=\"T_15f5b_row11_col7\" class=\"data row11 col7\" >-0.163960</td>\n",
       "      <td id=\"T_15f5b_row11_col8\" class=\"data row11 col8\" >0.223516</td>\n",
       "      <td id=\"T_15f5b_row11_col9\" class=\"data row11 col9\" >-0.026303</td>\n",
       "      <td id=\"T_15f5b_row11_col10\" class=\"data row11 col10\" >-1.000000</td>\n",
       "      <td id=\"T_15f5b_row11_col11\" class=\"data row11 col11\" >1.000000</td>\n",
       "      <td id=\"T_15f5b_row11_col12\" class=\"data row11 col12\" >0.893898</td>\n",
       "      <td id=\"T_15f5b_row11_col13\" class=\"data row11 col13\" >0.003778</td>\n",
       "      <td id=\"T_15f5b_row11_col14\" class=\"data row11 col14\" >-0.412234</td>\n",
       "    </tr>\n",
       "    <tr>\n",
       "      <th id=\"T_15f5b_level0_row12\" class=\"row_heading level0 row12\" >ageCategory_n</th>\n",
       "      <td id=\"T_15f5b_row12_col0\" class=\"data row12 col0\" >0.018168</td>\n",
       "      <td id=\"T_15f5b_row12_col1\" class=\"data row12 col1\" >-0.047887</td>\n",
       "      <td id=\"T_15f5b_row12_col2\" class=\"data row12 col2\" >0.003293</td>\n",
       "      <td id=\"T_15f5b_row12_col3\" class=\"data row12 col3\" >-0.038325</td>\n",
       "      <td id=\"T_15f5b_row12_col4\" class=\"data row12 col4\" >0.030702</td>\n",
       "      <td id=\"T_15f5b_row12_col5\" class=\"data row12 col5\" >-0.104595</td>\n",
       "      <td id=\"T_15f5b_row12_col6\" class=\"data row12 col6\" >0.041540</td>\n",
       "      <td id=\"T_15f5b_row12_col7\" class=\"data row12 col7\" >-0.196073</td>\n",
       "      <td id=\"T_15f5b_row12_col8\" class=\"data row12 col8\" >0.214135</td>\n",
       "      <td id=\"T_15f5b_row12_col9\" class=\"data row12 col9\" >-0.022429</td>\n",
       "      <td id=\"T_15f5b_row12_col10\" class=\"data row12 col10\" >-0.893898</td>\n",
       "      <td id=\"T_15f5b_row12_col11\" class=\"data row12 col11\" >0.893898</td>\n",
       "      <td id=\"T_15f5b_row12_col12\" class=\"data row12 col12\" >1.000000</td>\n",
       "      <td id=\"T_15f5b_row12_col13\" class=\"data row12 col13\" >0.003573</td>\n",
       "      <td id=\"T_15f5b_row12_col14\" class=\"data row12 col14\" >-0.446196</td>\n",
       "    </tr>\n",
       "    <tr>\n",
       "      <th id=\"T_15f5b_level0_row13\" class=\"row_heading level0 row13\" >abtest_n</th>\n",
       "      <td id=\"T_15f5b_row13_col0\" class=\"data row13 col0\" >0.004206</td>\n",
       "      <td id=\"T_15f5b_row13_col1\" class=\"data row13 col1\" >0.002355</td>\n",
       "      <td id=\"T_15f5b_row13_col2\" class=\"data row13 col2\" >0.003908</td>\n",
       "      <td id=\"T_15f5b_row13_col3\" class=\"data row13 col3\" >0.001228</td>\n",
       "      <td id=\"T_15f5b_row13_col4\" class=\"data row13 col4\" >0.000454</td>\n",
       "      <td id=\"T_15f5b_row13_col5\" class=\"data row13 col5\" >-0.005444</td>\n",
       "      <td id=\"T_15f5b_row13_col6\" class=\"data row13 col6\" >0.002150</td>\n",
       "      <td id=\"T_15f5b_row13_col7\" class=\"data row13 col7\" >-0.002587</td>\n",
       "      <td id=\"T_15f5b_row13_col8\" class=\"data row13 col8\" >-0.004239</td>\n",
       "      <td id=\"T_15f5b_row13_col9\" class=\"data row13 col9\" >-0.003132</td>\n",
       "      <td id=\"T_15f5b_row13_col10\" class=\"data row13 col10\" >-0.003778</td>\n",
       "      <td id=\"T_15f5b_row13_col11\" class=\"data row13 col11\" >0.003778</td>\n",
       "      <td id=\"T_15f5b_row13_col12\" class=\"data row13 col12\" >0.003573</td>\n",
       "      <td id=\"T_15f5b_row13_col13\" class=\"data row13 col13\" >1.000000</td>\n",
       "      <td id=\"T_15f5b_row13_col14\" class=\"data row13 col14\" >-0.000743</td>\n",
       "    </tr>\n",
       "    <tr>\n",
       "      <th id=\"T_15f5b_level0_row14\" class=\"row_heading level0 row14\" >price</th>\n",
       "      <td id=\"T_15f5b_row14_col0\" class=\"data row14 col0\" >-0.099736</td>\n",
       "      <td id=\"T_15f5b_row14_col1\" class=\"data row14 col1\" >-0.027460</td>\n",
       "      <td id=\"T_15f5b_row14_col2\" class=\"data row14 col2\" >-0.086751</td>\n",
       "      <td id=\"T_15f5b_row14_col3\" class=\"data row14 col3\" >-0.020692</td>\n",
       "      <td id=\"T_15f5b_row14_col4\" class=\"data row14 col4\" >-0.223189</td>\n",
       "      <td id=\"T_15f5b_row14_col5\" class=\"data row14 col5\" >0.428582</td>\n",
       "      <td id=\"T_15f5b_row14_col6\" class=\"data row14 col6\" >-0.248703</td>\n",
       "      <td id=\"T_15f5b_row14_col7\" class=\"data row14 col7\" >0.243945</td>\n",
       "      <td id=\"T_15f5b_row14_col8\" class=\"data row14 col8\" >-0.342168</td>\n",
       "      <td id=\"T_15f5b_row14_col9\" class=\"data row14 col9\" >0.005670</td>\n",
       "      <td id=\"T_15f5b_row14_col10\" class=\"data row14 col10\" >0.412234</td>\n",
       "      <td id=\"T_15f5b_row14_col11\" class=\"data row14 col11\" >-0.412234</td>\n",
       "      <td id=\"T_15f5b_row14_col12\" class=\"data row14 col12\" >-0.446196</td>\n",
       "      <td id=\"T_15f5b_row14_col13\" class=\"data row14 col13\" >-0.000743</td>\n",
       "      <td id=\"T_15f5b_row14_col14\" class=\"data row14 col14\" >1.000000</td>\n",
       "    </tr>\n",
       "  </tbody>\n",
       "</table>\n"
      ],
      "text/plain": [
       "<pandas.io.formats.style.Styler at 0x264caf366a0>"
      ]
     },
     "execution_count": 96,
     "metadata": {},
     "output_type": "execute_result"
    }
   ],
   "source": [
    "cor = dataMLM.corr()\n",
    "cor.style.background_gradient(cmap='RdYlGn')"
   ]
  },
  {
   "cell_type": "markdown",
   "metadata": {},
   "source": [
    "And here I have extracted all the features correlations and we can see that those are the most features that affects on the price:\n",
    "- gearbox_n \n",
    "- powerPS\t\n",
    "- powerPScategory_n\t\n",
    "- fuelType_n\t\n",
    "- kilometer \n",
    "- yearOfRegistration\t\n",
    "- age\t\n",
    "- ageCategory_n"
   ]
  },
  {
   "cell_type": "markdown",
   "metadata": {},
   "source": [
    "### Features Variables "
   ]
  },
  {
   "cell_type": "code",
   "execution_count": 97,
   "metadata": {},
   "outputs": [
    {
     "data": {
      "text/html": [
       "<div>\n",
       "<style scoped>\n",
       "    .dataframe tbody tr th:only-of-type {\n",
       "        vertical-align: middle;\n",
       "    }\n",
       "\n",
       "    .dataframe tbody tr th {\n",
       "        vertical-align: top;\n",
       "    }\n",
       "\n",
       "    .dataframe thead th {\n",
       "        text-align: right;\n",
       "    }\n",
       "</style>\n",
       "<table border=\"1\" class=\"dataframe\">\n",
       "  <thead>\n",
       "    <tr style=\"text-align: right;\">\n",
       "      <th></th>\n",
       "      <th>brand_n</th>\n",
       "      <th>model_n</th>\n",
       "      <th>name_n</th>\n",
       "      <th>vehicleType_n</th>\n",
       "      <th>gearbox_n</th>\n",
       "      <th>powerPS</th>\n",
       "      <th>fuelType_n</th>\n",
       "      <th>kilometer</th>\n",
       "      <th>notRepairedDamage_n</th>\n",
       "      <th>yearOfRegistration</th>\n",
       "      <th>age</th>\n",
       "    </tr>\n",
       "  </thead>\n",
       "  <tbody>\n",
       "    <tr>\n",
       "      <th>0</th>\n",
       "      <td>0.358974</td>\n",
       "      <td>0.475806</td>\n",
       "      <td>0.384117</td>\n",
       "      <td>1.000000</td>\n",
       "      <td>0.0</td>\n",
       "      <td>0.107641</td>\n",
       "      <td>0.500000</td>\n",
       "      <td>0.827586</td>\n",
       "      <td>1.0</td>\n",
       "      <td>0.862385</td>\n",
       "      <td>0.137615</td>\n",
       "    </tr>\n",
       "    <tr>\n",
       "      <th>1</th>\n",
       "      <td>0.974359</td>\n",
       "      <td>0.471774</td>\n",
       "      <td>0.323289</td>\n",
       "      <td>0.571429</td>\n",
       "      <td>1.0</td>\n",
       "      <td>0.049169</td>\n",
       "      <td>0.166667</td>\n",
       "      <td>1.000000</td>\n",
       "      <td>0.5</td>\n",
       "      <td>0.834862</td>\n",
       "      <td>0.165138</td>\n",
       "    </tr>\n",
       "    <tr>\n",
       "      <th>2</th>\n",
       "      <td>0.794872</td>\n",
       "      <td>0.411290</td>\n",
       "      <td>0.729325</td>\n",
       "      <td>0.571429</td>\n",
       "      <td>1.0</td>\n",
       "      <td>0.045183</td>\n",
       "      <td>0.500000</td>\n",
       "      <td>0.586207</td>\n",
       "      <td>0.5</td>\n",
       "      <td>0.899083</td>\n",
       "      <td>0.100917</td>\n",
       "    </tr>\n",
       "    <tr>\n",
       "      <th>3</th>\n",
       "      <td>0.051282</td>\n",
       "      <td>0.044355</td>\n",
       "      <td>0.110532</td>\n",
       "      <td>0.857143</td>\n",
       "      <td>1.0</td>\n",
       "      <td>0.067110</td>\n",
       "      <td>0.166667</td>\n",
       "      <td>1.000000</td>\n",
       "      <td>0.0</td>\n",
       "      <td>0.779817</td>\n",
       "      <td>0.220183</td>\n",
       "    </tr>\n",
       "    <tr>\n",
       "      <th>4</th>\n",
       "      <td>0.641026</td>\n",
       "      <td>0.032258</td>\n",
       "      <td>0.621061</td>\n",
       "      <td>0.285714</td>\n",
       "      <td>1.0</td>\n",
       "      <td>0.071761</td>\n",
       "      <td>0.166667</td>\n",
       "      <td>1.000000</td>\n",
       "      <td>0.5</td>\n",
       "      <td>0.862385</td>\n",
       "      <td>0.137615</td>\n",
       "    </tr>\n",
       "  </tbody>\n",
       "</table>\n",
       "</div>"
      ],
      "text/plain": [
       "    brand_n   model_n    name_n  vehicleType_n  gearbox_n   powerPS  \\\n",
       "0  0.358974  0.475806  0.384117       1.000000        0.0  0.107641   \n",
       "1  0.974359  0.471774  0.323289       0.571429        1.0  0.049169   \n",
       "2  0.794872  0.411290  0.729325       0.571429        1.0  0.045183   \n",
       "3  0.051282  0.044355  0.110532       0.857143        1.0  0.067110   \n",
       "4  0.641026  0.032258  0.621061       0.285714        1.0  0.071761   \n",
       "\n",
       "   fuelType_n  kilometer  notRepairedDamage_n  yearOfRegistration       age  \n",
       "0    0.500000   0.827586                  1.0            0.862385  0.137615  \n",
       "1    0.166667   1.000000                  0.5            0.834862  0.165138  \n",
       "2    0.500000   0.586207                  0.5            0.899083  0.100917  \n",
       "3    0.166667   1.000000                  0.0            0.779817  0.220183  \n",
       "4    0.166667   1.000000                  0.5            0.862385  0.137615  "
      ]
     },
     "execution_count": 97,
     "metadata": {},
     "output_type": "execute_result"
    }
   ],
   "source": [
    "feature_cols = ['brand_n',\n",
    "                'model_n',\n",
    "                'name_n',\n",
    "                'vehicleType_n',\n",
    "                'gearbox_n',\n",
    "                'powerPS',\n",
    "                #'powerPScategory_n',\n",
    "                'fuelType_n',\n",
    "                'kilometer',\n",
    "                'notRepairedDamage_n',\n",
    "                'yearOfRegistration',\n",
    "                'age',\n",
    "                #'ageCategory_n',\n",
    "                #'abtest_n'\n",
    "                ]\n",
    "\n",
    "x = dataMLM[feature_cols] \n",
    "x.head()"
   ]
  },
  {
   "cell_type": "markdown",
   "metadata": {},
   "source": [
    "### Target Variable"
   ]
  },
  {
   "cell_type": "code",
   "execution_count": 98,
   "metadata": {},
   "outputs": [
    {
     "data": {
      "text/plain": [
       "0    0.602311\n",
       "1    0.092138\n",
       "2    0.221218\n",
       "3    0.039892\n",
       "4    0.135165\n",
       "Name: price, dtype: float64"
      ]
     },
     "execution_count": 98,
     "metadata": {},
     "output_type": "execute_result"
    }
   ],
   "source": [
    "y = dataMLM['price']\n",
    "y.head()"
   ]
  },
  {
   "cell_type": "markdown",
   "metadata": {},
   "source": [
    "### Splitting the Dataset to Testing and Training"
   ]
  },
  {
   "cell_type": "code",
   "execution_count": 99,
   "metadata": {},
   "outputs": [],
   "source": [
    "x_train, x_test, y_train, y_test = train_test_split(x, y, test_size=0.3, random_state=1)"
   ]
  },
  {
   "cell_type": "markdown",
   "metadata": {},
   "source": [
    "### Models"
   ]
  },
  {
   "cell_type": "markdown",
   "metadata": {},
   "source": [
    "#### Multilinear Regression"
   ]
  },
  {
   "cell_type": "code",
   "execution_count": 100,
   "metadata": {},
   "outputs": [
    {
     "data": {
      "text/plain": [
       "LinearRegression()"
      ]
     },
     "execution_count": 100,
     "metadata": {},
     "output_type": "execute_result"
    }
   ],
   "source": [
    "# Create and train the Multilinear Regression model\n",
    "modelMLR = LinearRegression()\n",
    "modelMLR.fit(x_train, y_train)"
   ]
  },
  {
   "cell_type": "code",
   "execution_count": 101,
   "metadata": {},
   "outputs": [
    {
     "name": "stdout",
     "output_type": "stream",
     "text": [
      "Mean Squared Error: 0.030447487016114248\n",
      "R-squared: 0.4692154555004471\n"
     ]
    }
   ],
   "source": [
    "# Make predictions on the test data\n",
    "y_pred = modelMLR.predict(x_test)\n",
    "\n",
    "# Calculate MSE and R-squared\n",
    "mseMLR = mean_squared_error(y_test, y_pred)\n",
    "r2MLR = r2_score(y_test, y_pred)\n",
    "\n",
    "print(\"Mean Squared Error:\", mseMLR)\n",
    "print(\"R-squared:\", r2MLR)"
   ]
  },
  {
   "cell_type": "markdown",
   "metadata": {},
   "source": [
    "#### Polynomial Regression"
   ]
  },
  {
   "cell_type": "code",
   "execution_count": 102,
   "metadata": {},
   "outputs": [
    {
     "data": {
      "text/plain": [
       "LinearRegression()"
      ]
     },
     "execution_count": 102,
     "metadata": {},
     "output_type": "execute_result"
    }
   ],
   "source": [
    "# Create and train the Polynomial Regression model\n",
    "degree = 3  # Degree of polynomial\n",
    "poly = PolynomialFeatures(degree=degree)\n",
    "x_train_poly = poly.fit_transform(x_train)\n",
    "x_test_poly = poly.transform(x_test)\n",
    "\n",
    "modelPR = LinearRegression()\n",
    "modelPR.fit(x_train_poly, y_train)"
   ]
  },
  {
   "cell_type": "code",
   "execution_count": 103,
   "metadata": {},
   "outputs": [
    {
     "name": "stdout",
     "output_type": "stream",
     "text": [
      "Polynomial Regression (Degree 3):\n",
      "Mean Squared Error: 0.018348520279533095\n",
      "R-squared: 0.6801341610340983\n"
     ]
    }
   ],
   "source": [
    "# Make predictions on the test data\n",
    "y_pred = modelPR.predict(x_test_poly)\n",
    "\n",
    "# Calculate metrics\n",
    "msePR = mean_squared_error(y_test, y_pred)\n",
    "r2PR = r2_score(y_test, y_pred)\n",
    "\n",
    "print(\"Polynomial Regression (Degree {}):\".format(degree))\n",
    "print(\"Mean Squared Error:\", msePR)\n",
    "print(\"R-squared:\", r2PR)"
   ]
  },
  {
   "cell_type": "markdown",
   "metadata": {},
   "source": [
    "### Models Comparison"
   ]
  },
  {
   "cell_type": "code",
   "execution_count": 104,
   "metadata": {},
   "outputs": [
    {
     "name": "stdout",
     "output_type": "stream",
     "text": [
      "         Model MSE Score R2 Score\n",
      "1   Polynomial      0.02     0.68\n",
      "0  Multilinear      0.03     0.47\n"
     ]
    }
   ],
   "source": [
    "# Create a datarame to collect the scores for the model\n",
    "models = pd.DataFrame({\n",
    "    'Model': ['Multilinear', 'Polynomial'],\n",
    "    'MSE Score': [mseMLR, msePR],\n",
    "    'R2 Score': [r2MLR, r2PR]})\n",
    "\n",
    "# Convert the scores to readable strings\n",
    "models['MSE Score'] = models['MSE Score'].apply(lambda x: '{:.2f}'.format(x))\n",
    "models['R2 Score'] = models['R2 Score'].apply(lambda x: '{:.2f}'.format(x))\n",
    "\n",
    "# Sort the DataFrame by 'MSE Score' column in ascending order\n",
    "sorted_models = models.sort_values(by='MSE Score', ascending=True)\n",
    "\n",
    "# Display the sorted DataFrame\n",
    "print(sorted_models)"
   ]
  },
  {
   "cell_type": "markdown",
   "metadata": {},
   "source": [
    "After many testing and trying different combinations of features, the Polynomial Reression is the best\n",
    "\n",
    "The split that best occured those scores are the 70/30 split"
   ]
  },
  {
   "cell_type": "markdown",
   "metadata": {},
   "source": [
    "# End Time"
   ]
  },
  {
   "cell_type": "code",
   "execution_count": 105,
   "metadata": {},
   "outputs": [
    {
     "name": "stdout",
     "output_type": "stream",
     "text": [
      "Total runtime: 8 minutes and 39 seconds\n"
     ]
    }
   ],
   "source": [
    "end_time = time.time()\n",
    "elapsed_time = end_time - start_time\n",
    "\n",
    "minutes = int(elapsed_time // 60)\n",
    "seconds = int(elapsed_time % 60)\n",
    "\n",
    "print(\"Total runtime:\", minutes, \"minutes and\", seconds, \"seconds\")"
   ]
  }
 ],
 "metadata": {
  "kernelspec": {
   "display_name": "base",
   "language": "python",
   "name": "python3"
  },
  "language_info": {
   "codemirror_mode": {
    "name": "ipython",
    "version": 3
   },
   "file_extension": ".py",
   "mimetype": "text/x-python",
   "name": "python",
   "nbconvert_exporter": "python",
   "pygments_lexer": "ipython3",
   "version": "3.9.13"
  },
  "orig_nbformat": 4
 },
 "nbformat": 4,
 "nbformat_minor": 2
}
